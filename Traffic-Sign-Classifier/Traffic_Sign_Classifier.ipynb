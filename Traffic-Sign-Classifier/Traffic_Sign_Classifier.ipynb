{
 "cells": [
  {
   "cell_type": "markdown",
   "metadata": {},
   "source": [
    "# Self-Driving Car Engineer Nanodegree\n",
    "\n",
    "## Deep Learning\n",
    "\n",
    "## Project: Build a Traffic Sign Recognition Classifier\n",
    "\n",
    "In this notebook, a template is provided for you to implement your functionality in stages, which is required to successfully complete this project. If additional code is required that cannot be included in the notebook, be sure that the Python code is successfully imported and included in your submission if necessary. \n",
    "\n",
    "> **Note**: Once you have completed all of the code implementations, you need to finalize your work by exporting the iPython Notebook as an HTML document. Before exporting the notebook to html, all of the code cells need to have been run so that reviewers can see the final implementation and output. You can then export the notebook by using the menu above and navigating to  \\n\",\n",
    "    \"**File -> Download as -> HTML (.html)**. Include the finished document along with this notebook as your submission. \n",
    "\n",
    "In addition to implementing code, there is a writeup to complete. The writeup should be completed in a separate file, which can be either a markdown file or a pdf document. There is a [write up template](https://github.com/udacity/CarND-Traffic-Sign-Classifier-Project/blob/master/writeup_template.md) that can be used to guide the writing process. Completing the code template and writeup template will cover all of the [rubric points](https://review.udacity.com/#!/rubrics/481/view) for this project.\n",
    "\n",
    "The [rubric](https://review.udacity.com/#!/rubrics/481/view) contains \"Stand Out Suggestions\" for enhancing the project beyond the minimum requirements. The stand out suggestions are optional. If you decide to pursue the \"stand out suggestions\", you can include the code in this Ipython notebook and also discuss the results in the writeup file.\n",
    "\n",
    "\n",
    ">**Note:** Code and Markdown cells can be executed using the **Shift + Enter** keyboard shortcut. In addition, Markdown cells can be edited by typically double-clicking the cell to enter edit mode."
   ]
  },
  {
   "cell_type": "markdown",
   "metadata": {},
   "source": [
    "---\n",
    "## Step 0: Load The Data"
   ]
  },
  {
   "cell_type": "code",
   "execution_count": 1,
   "metadata": {},
   "outputs": [
    {
     "name": "stderr",
     "output_type": "stream",
     "text": [
      "/home/ubuntu/anaconda3/envs/tensorflow_p36/lib/python3.6/importlib/_bootstrap.py:219: RuntimeWarning: compiletime version 3.5 of module 'tensorflow.python.framework.fast_tensor_util' does not match runtime version 3.6\n",
      "  return f(*args, **kwds)\n"
     ]
    }
   ],
   "source": [
    "# Load pickled data\n",
    "import pickle\n",
    "import numpy as np\n",
    "import pandas as pd\n",
    "import tensorflow as tf\n",
    "import cv2\n",
    "\n",
    "from matplotlib.pyplot import savefig\n",
    "\n",
    "training_file = \"traffic-signs-data/train.p\"\n",
    "validation_file= \"traffic-signs-data/valid.p\"\n",
    "testing_file = \"traffic-signs-data/test.p\"\n",
    "\n",
    "with open(training_file, mode='rb') as f:\n",
    "    train = pickle.load(f)\n",
    "with open(validation_file, mode='rb') as f:\n",
    "    valid = pickle.load(f)\n",
    "with open(testing_file, mode='rb') as f:\n",
    "    test = pickle.load(f)\n",
    "    \n",
    "X_train, y_train = train['features'], train['labels']\n",
    "X_valid, y_valid = valid['features'], valid['labels']\n",
    "X_test, y_test = test['features'], test['labels']"
   ]
  },
  {
   "cell_type": "markdown",
   "metadata": {},
   "source": [
    "---\n",
    "\n",
    "## Step 1: Dataset Summary & Exploration\n",
    "\n",
    "The pickled data is a dictionary with 4 key/value pairs:\n",
    "\n",
    "- `'features'` is a 4D array containing raw pixel data of the traffic sign images, (num examples, width, height, channels).\n",
    "- `'labels'` is a 1D array containing the label/class id of the traffic sign. The file `signnames.csv` contains id -> name mappings for each id.\n",
    "- `'sizes'` is a list containing tuples, (width, height) representing the original width and height the image.\n",
    "- `'coords'` is a list containing tuples, (x1, y1, x2, y2) representing coordinates of a bounding box around the sign in the image. **THESE COORDINATES ASSUME THE ORIGINAL IMAGE. THE PICKLED DATA CONTAINS RESIZED VERSIONS (32 by 32) OF THESE IMAGES**\n",
    "\n",
    "Complete the basic data summary below. Use python, numpy and/or pandas methods to calculate the data summary rather than hard coding the results. For example, the [pandas shape method](http://pandas.pydata.org/pandas-docs/stable/generated/pandas.DataFrame.shape.html) might be useful for calculating some of the summary results. "
   ]
  },
  {
   "cell_type": "markdown",
   "metadata": {},
   "source": [
    "### Provide a Basic Summary of the Data Set Using Python, Numpy and/or Pandas"
   ]
  },
  {
   "cell_type": "code",
   "execution_count": 2,
   "metadata": {},
   "outputs": [
    {
     "name": "stdout",
     "output_type": "stream",
     "text": [
      "Number of training examples = 34799\n",
      "Number of validation examples = 4410\n",
      "Number of testing examples = 12630\n",
      "Image data shape = (32, 32)\n",
      "Number of classes = 43\n"
     ]
    }
   ],
   "source": [
    "### Replace each question mark with the appropriate value. \n",
    "### Use python, pandas or numpy methods rather than hard coding the results\n",
    "\n",
    "# TODO: Number of training examples\n",
    "n_train = X_train.shape[0]\n",
    "\n",
    "# TODO: Number of validation examples\n",
    "n_validation = X_valid.shape[0]\n",
    "\n",
    "# TODO: Number of testing examples.\n",
    "n_test = X_test.shape[0]\n",
    "\n",
    "# TODO: What's the shape of an traffic sign image?\n",
    "image_shape = (X_train.shape[1], X_train.shape[2])\n",
    "\n",
    "# TODO: How many unique classes/labels there are in the dataset.\n",
    "n_classes = np.max(y_train) + 1\n",
    "\n",
    "print(\"Number of training examples =\", n_train)\n",
    "print(\"Number of validation examples =\", n_validation)\n",
    "print(\"Number of testing examples =\", n_test)\n",
    "print(\"Image data shape =\", image_shape)\n",
    "print(\"Number of classes =\", n_classes)"
   ]
  },
  {
   "cell_type": "markdown",
   "metadata": {},
   "source": [
    "### Include an exploratory visualization of the dataset"
   ]
  },
  {
   "cell_type": "markdown",
   "metadata": {},
   "source": [
    "Visualize the German Traffic Signs Dataset using the pickled file(s). This is open ended, suggestions include: plotting traffic sign images, plotting the count of each sign, etc. \n",
    "\n",
    "The [Matplotlib](http://matplotlib.org/) [examples](http://matplotlib.org/examples/index.html) and [gallery](http://matplotlib.org/gallery.html) pages are a great resource for doing visualizations in Python.\n",
    "\n",
    "**NOTE:** It's recommended you start with something simple first. If you wish to do more, come back to it after you've completed the rest of the sections. It can be interesting to look at the distribution of classes in the training, validation and test set. Is the distribution the same? Are there more examples of some classes than others?"
   ]
  },
  {
   "cell_type": "code",
   "execution_count": 3,
   "metadata": {},
   "outputs": [],
   "source": [
    "### Data exploration visualization code goes here.\n",
    "### Feel free to use as many code cells as needed.\n",
    "import matplotlib.pyplot as plt\n",
    "# Visualizations will be shown in the notebook.\n",
    "%matplotlib inline"
   ]
  },
  {
   "cell_type": "code",
   "execution_count": 4,
   "metadata": {},
   "outputs": [],
   "source": [
    "def plot_image(image_number, array, cmap=None):\n",
    "    image = array[image_number]\n",
    "    plt.imshow(image, cmap=cmap)"
   ]
  },
  {
   "cell_type": "code",
   "execution_count": 5,
   "metadata": {},
   "outputs": [
    {
     "data": {
      "image/png": "[encoded data removed]",
      "text/plain": [
       "<matplotlib.figure.Figure at 0x7ff6bb32b780>"
      ]
     },
     "metadata": {},
     "output_type": "display_data"
    }
   ],
   "source": [
    "plot_image(17031, X_train)"
   ]
  },
  {
   "cell_type": "code",
   "execution_count": 6,
   "metadata": {
    "scrolled": true
   },
   "outputs": [
    {
     "data": {
      "image/png": "[encoded data removed]",
      "text/plain": [
       "<matplotlib.figure.Figure at 0x7ff6bb2c2c88>"
      ]
     },
     "metadata": {},
     "output_type": "display_data"
    }
   ],
   "source": [
    "plt.title('Train Labels')\n",
    "plt.hist(y_train, bins='auto')\n",
    "plt.show()"
   ]
  },
  {
   "cell_type": "code",
   "execution_count": 7,
   "metadata": {},
   "outputs": [
    {
     "data": {
      "image/png": "[encoded data removed]",
      "text/plain": [
       "<matplotlib.figure.Figure at 0x7ff6ba98c2b0>"
      ]
     },
     "metadata": {},
     "output_type": "display_data"
    }
   ],
   "source": [
    "plt.title('Train pixel')\n",
    "plt.hist(X_train[:,10,11,1])\n",
    "plt.show()"
   ]
  },
  {
   "cell_type": "markdown",
   "metadata": {},
   "source": [
    "\n",
    "----\n",
    "\n",
    "## Step 2: Design and Test a Model Architecture\n",
    "\n",
    "Design and implement a deep learning model that learns to recognize traffic signs. Train and test your model on the [German Traffic Sign Dataset](http://benchmark.ini.rub.de/?section=gtsrb&subsection=dataset).\n",
    "\n",
    "The LeNet-5 implementation shown in the [classroom](https://classroom.udacity.com/nanodegrees/nd013/parts/fbf77062-5703-404e-b60c-95b78b2f3f9e/modules/6df7ae49-c61c-4bb2-a23e-6527e69209ec/lessons/601ae704-1035-4287-8b11-e2c2716217ad/concepts/d4aca031-508f-4e0b-b493-e7b706120f81) at the end of the CNN lesson is a solid starting point. You'll have to change the number of classes and possibly the preprocessing, but aside from that it's plug and play! \n",
    "\n",
    "With the LeNet-5 solution from the lecture, you should expect a validation set accuracy of about 0.89. To meet specifications, the validation set accuracy will need to be at least 0.93. It is possible to get an even higher accuracy, but 0.93 is the minimum for a successful project submission. \n",
    "\n",
    "There are various aspects to consider when thinking about this problem:\n",
    "\n",
    "- Neural network architecture (is the network over or underfitting?)\n",
    "- Play around preprocessing techniques (normalization, rgb to grayscale, etc)\n",
    "- Number of examples per label (some have more than others).\n",
    "- Generate fake data.\n",
    "\n",
    "Here is an example of a [published baseline model on this problem](http://yann.lecun.com/exdb/publis/pdf/sermanet-ijcnn-11.pdf). It's not required to be familiar with the approach used in the paper but, it's good practice to try to read papers like these."
   ]
  },
  {
   "cell_type": "markdown",
   "metadata": {},
   "source": [
    "### Pre-process the Data Set (normalization, grayscale, etc.)"
   ]
  },
  {
   "cell_type": "markdown",
   "metadata": {},
   "source": [
    "Minimally, the image data should be normalized so that the data has mean zero and equal variance. For image data, `(pixel - 128)/ 128` is a quick way to approximately normalize the data and can be used in this project. \n",
    "\n",
    "Other pre-processing steps are optional. You can try different techniques to see if it improves performance. \n",
    "\n",
    "Use the code cell (or multiple code cells, if necessary) to implement the first step of your project."
   ]
  },
  {
   "cell_type": "code",
   "execution_count": 8,
   "metadata": {},
   "outputs": [],
   "source": [
    "def basic_normalization(image_dataset):\n",
    "    return (image_dataset / 255.0) - 0.5"
   ]
  },
  {
   "cell_type": "code",
   "execution_count": 9,
   "metadata": {},
   "outputs": [],
   "source": [
    "def normalization(image_dataset, X_train):\n",
    "    mean_image = np.mean(X_train, axis=0)\n",
    "    std_image = np.std(X_train, axis=0)\n",
    "    return np.divide(image_dataset - mean_image, std_image)"
   ]
  },
  {
   "cell_type": "code",
   "execution_count": 10,
   "metadata": {},
   "outputs": [],
   "source": [
    "def to_grayscale(image_dataset) : \n",
    "    product = np.dot(image_dataset, [0.299, 0.587, 0.114])\n",
    "    product = np.reshape(product, (image_dataset.shape[0], image_dataset.shape[1], image_dataset.shape[2], 1))\n",
    "    return product"
   ]
  },
  {
   "cell_type": "code",
   "execution_count": 11,
   "metadata": {},
   "outputs": [],
   "source": [
    "X_train_norm = basic_normalization(X_train)\n",
    "X_valid_norm = basic_normalization(X_valid)\n",
    "X_test_norm = basic_normalization(X_test)"
   ]
  },
  {
   "cell_type": "code",
   "execution_count": 12,
   "metadata": {},
   "outputs": [
    {
     "data": {
      "image/png": "[encoded data removed]",
      "text/plain": [
       "<matplotlib.figure.Figure at 0x7ff6ba9ea0f0>"
      ]
     },
     "metadata": {},
     "output_type": "display_data"
    }
   ],
   "source": [
    "import matplotlib.pyplot as plt\n",
    "plt.hist(X_train_norm[:,5,10])  # arguments are passed to np.histogram\n",
    "plt.title(\"Histogram with 'auto' bins\")\n",
    "plt.show()"
   ]
  },
  {
   "cell_type": "markdown",
   "metadata": {},
   "source": [
    "### Data augmentation"
   ]
  },
  {
   "cell_type": "code",
   "execution_count": 13,
   "metadata": {},
   "outputs": [],
   "source": [
    "# from scipy.stats import itemfreq\n",
    "# max_frequency = 500\n",
    "# frequencies = itemfreq(y_train)\n",
    "# not_frequent = [frequencies[i,0] for i in range(frequencies.shape[0]) if (frequencies[i,1] < 700)]\n",
    "# not_frequent_indices = [i for i in range(X_train.shape[0]) if y_train[i] in not_frequent]"
   ]
  },
  {
   "cell_type": "code",
   "execution_count": 14,
   "metadata": {
    "scrolled": true
   },
   "outputs": [],
   "source": [
    "# from skimage.transform import rotate\n",
    "# from random import uniform\n",
    "\n",
    "# max_rotation = 5\n",
    "# X_train_to_rotate = X_train[not_frequent_indices]\n",
    "# y_train_to_rotate = y_train[not_frequent_indices]\n",
    "# rotated_images = np.array([rotate([i], angle = max_rotation * uniform(-1,1)) \n",
    "#                            for i in range(X_train_to_rotate.shape[0])])\n",
    "# rotated_images_2 = np.array([rotate(X_train_to_rotate[i], angle = max_rotation * uniform(-1,1)) \n",
    "#                            for i in range(X_train_to_rotate.shape[0])])\n",
    "\n",
    "# X_train_augmented = np.concatenate((X_train, rotated_images, rotated_images_2))\n",
    "# y_train_augmented = np.concatenate((y_train,y_train_to_rotate, y_train_to_rotate))"
   ]
  },
  {
   "cell_type": "code",
   "execution_count": 15,
   "metadata": {},
   "outputs": [],
   "source": [
    "# plt.title('Augmented Train Labels')\n",
    "# plt.hist(y_train_augmented, bins='auto')\n",
    "# plt.show()\n",
    "# savefig('doc_images/train-augmented-labels-distribution.png')"
   ]
  },
  {
   "cell_type": "code",
   "execution_count": 16,
   "metadata": {},
   "outputs": [],
   "source": [
    "# X_train_augmented_norm = basic_normalization(X_train_augmented)"
   ]
  },
  {
   "cell_type": "markdown",
   "metadata": {},
   "source": [
    "### Model Architecture"
   ]
  },
  {
   "cell_type": "markdown",
   "metadata": {},
   "source": [
    "I considered several architectures :"
   ]
  },
  {
   "cell_type": "code",
   "execution_count": 17,
   "metadata": {},
   "outputs": [],
   "source": [
    "from tensorflow.contrib.layers import flatten\n",
    "\n",
    "def LeNet_dropout(x,  dropout_keep_prob, channels=3):    \n",
    "    # Arguments used for tf.truncated_normal, randomly defines variables for the weights and biases for each layer\n",
    "    initializer = tf.contrib.layers.xavier_initializer_conv2d()\n",
    "    \n",
    "    # SOLUTION: Layer 1: Convolutional. Input = 32x32x3. Output = 28x28x6.\n",
    "    \n",
    "    conv1_W = tf.Variable(initializer(shape=(5, 5, channels, 12)))\n",
    "#     conv1_W = tf.Variable(tf.truncated_normal(shape=(5, 5, channels, 6), mean = mu, stddev = sigma))\n",
    "    conv1_b = tf.Variable(tf.zeros(12))\n",
    "    conv1   = tf.nn.conv2d(x, conv1_W, strides=[1, 1, 1, 1], padding='VALID') + conv1_b\n",
    "\n",
    "    # SOLUTION: Activation.\n",
    "    conv1 = tf.nn.relu(conv1)\n",
    "\n",
    "    # SOLUTION: Pooling. Input = 28x28x6. Output = 14x14x6.\n",
    "    conv1 = tf.nn.max_pool(conv1, ksize=[1, 2, 2, 1], strides=[1, 2, 2, 1], padding='VALID')\n",
    "\n",
    "    # SOLUTION: Layer 2: Convolutional. Output = 10x10x16.\n",
    "    conv2_W = tf.Variable(initializer(shape=(5, 5, 12, 32)))\n",
    "#     conv2_W = tf.Variable(tf.truncated_normal(shape=(5, 5, 6, 16), mean = mu, stddev = sigma))\n",
    "    conv2_b = tf.Variable(tf.zeros(32))\n",
    "    conv2   = tf.nn.conv2d(conv1, conv2_W, strides=[1, 1, 1, 1], padding='VALID') + conv2_b\n",
    "    \n",
    "    # SOLUTION: Activation.\n",
    "    conv2 = tf.nn.relu(conv2)\n",
    "\n",
    "    # SOLUTION: Pooling. Input = 10x10x16. Output = 5x5x16.\n",
    "    conv2 = tf.nn.max_pool(conv2, ksize=[1, 2, 2, 1], strides=[1, 2, 2, 1], padding='VALID')\n",
    "\n",
    "    # SOLUTION: Flatten. Input = 5x5x16. Output = 400.\n",
    "    fc0   = flatten(conv2)\n",
    "    fc0_dropout = tf.nn.dropout(fc0, keep_prob=dropout_keep_prob, noise_shape=tf.shape(fc0))\n",
    "    \n",
    "    initializer = tf.contrib.layers.xavier_initializer()\n",
    "    # SOLUTION: Layer 3: Fully Connected. Input = 400. Output = 120.\n",
    "    fc1_W = tf.Variable(initializer((800, 200)))\n",
    "#     fc1_W = tf.Variable(tf.truncated_normal(shape=(400, 120), mean = mu, stddev = sigma))\n",
    "    fc1_b = tf.Variable(tf.zeros(200))\n",
    "    fc1   = tf.matmul(fc0_dropout, fc1_W) + fc1_b\n",
    "    \n",
    "    # SOLUTION: Activation.\n",
    "    fc1    = tf.nn.relu(fc1)\n",
    "\n",
    "    # SOLUTION: Layer 4: Fully Connected. Input = 120. Output = 84.\n",
    "    fc2_W = tf.Variable(initializer((200, 98)))\n",
    "#     fc2_W  = tf.Variable(tf.truncated_normal(shape=(120, 86), mean = mu, stddev = sigma))\n",
    "    fc2_b  = tf.Variable(tf.zeros(98))\n",
    "    fc2    = tf.matmul(fc1, fc2_W) + fc2_b\n",
    "    \n",
    "    # SOLUTION: Activation.\n",
    "    fc2    = tf.nn.relu(fc2)\n",
    "\n",
    "    # SOLUTION: Layer 5: Fully Connected. Input = 84. Output = 10.\n",
    "    fc3_W = tf.Variable(initializer((98, 43)))\n",
    "#     fc3_W  = tf.Variable(tf.truncated_normal(shape=(86, 43), mean = mu, stddev = sigma))\n",
    "    fc3_b  = tf.Variable(tf.zeros(43))\n",
    "    logits = tf.matmul(fc2, fc3_W) + fc3_b\n",
    "    \n",
    "    return logits"
   ]
  },
  {
   "cell_type": "markdown",
   "metadata": {},
   "source": [
    "### Train, Validate and Test the Model"
   ]
  },
  {
   "cell_type": "markdown",
   "metadata": {},
   "source": [
    "A validation set can be used to assess how well the model is performing. A low accuracy on the training and validation\n",
    "sets imply underfitting. A high accuracy on the training set but low accuracy on the validation set implies overfitting."
   ]
  },
  {
   "cell_type": "code",
   "execution_count": 18,
   "metadata": {},
   "outputs": [],
   "source": [
    "nb_channels = 3\n",
    "rate = 0.001\n",
    "dropout_keep_prob= 0.95\n",
    "EPOCHS = 50\n",
    "BATCH_SIZE = 128"
   ]
  },
  {
   "cell_type": "code",
   "execution_count": 19,
   "metadata": {},
   "outputs": [],
   "source": [
    "X_train_used = X_train_norm\n",
    "y_train_used = y_train\n",
    "\n",
    "X_valid_used = X_valid_norm\n",
    "X_test_used = X_test_norm"
   ]
  },
  {
   "cell_type": "markdown",
   "metadata": {},
   "source": [
    "Operations definitions"
   ]
  },
  {
   "cell_type": "code",
   "execution_count": 20,
   "metadata": {
    "scrolled": true
   },
   "outputs": [
    {
     "name": "stdout",
     "output_type": "stream",
     "text": [
      "Training...\n",
      "\n",
      "EPOCH 1 ...\n",
      "Validation Accuracy = 0.801\n",
      "\n",
      "EPOCH 2 ...\n",
      "Validation Accuracy = 0.871\n",
      "\n",
      "EPOCH 3 ...\n",
      "Validation Accuracy = 0.910\n",
      "\n",
      "EPOCH 4 ...\n",
      "Validation Accuracy = 0.917\n",
      "\n",
      "EPOCH 5 ...\n",
      "Validation Accuracy = 0.917\n",
      "\n",
      "EPOCH 6 ...\n",
      "Validation Accuracy = 0.908\n",
      "\n",
      "EPOCH 7 ...\n",
      "Validation Accuracy = 0.932\n",
      "\n",
      "EPOCH 8 ...\n",
      "Validation Accuracy = 0.936\n",
      "\n",
      "EPOCH 9 ...\n",
      "Validation Accuracy = 0.941\n",
      "\n",
      "EPOCH 10 ...\n",
      "Validation Accuracy = 0.943\n",
      "\n",
      "EPOCH 11 ...\n",
      "Validation Accuracy = 0.949\n",
      "\n",
      "EPOCH 12 ...\n",
      "Validation Accuracy = 0.929\n",
      "\n",
      "EPOCH 13 ...\n",
      "Validation Accuracy = 0.921\n",
      "\n",
      "EPOCH 14 ...\n",
      "Validation Accuracy = 0.938\n",
      "\n",
      "EPOCH 15 ...\n",
      "Validation Accuracy = 0.944\n",
      "\n",
      "EPOCH 16 ...\n",
      "Validation Accuracy = 0.936\n",
      "\n",
      "EPOCH 17 ...\n",
      "Validation Accuracy = 0.930\n",
      "\n",
      "EPOCH 18 ...\n",
      "Validation Accuracy = 0.939\n",
      "\n",
      "EPOCH 19 ...\n",
      "Validation Accuracy = 0.926\n",
      "\n",
      "EPOCH 20 ...\n",
      "Validation Accuracy = 0.928\n",
      "\n",
      "EPOCH 21 ...\n",
      "Validation Accuracy = 0.958\n",
      "\n",
      "EPOCH 22 ...\n",
      "Validation Accuracy = 0.946\n",
      "\n",
      "EPOCH 23 ...\n",
      "Validation Accuracy = 0.942\n",
      "\n",
      "EPOCH 24 ...\n",
      "Validation Accuracy = 0.950\n",
      "\n",
      "EPOCH 25 ...\n",
      "Validation Accuracy = 0.926\n",
      "\n",
      "EPOCH 26 ...\n",
      "Validation Accuracy = 0.924\n",
      "\n",
      "EPOCH 27 ...\n",
      "Validation Accuracy = 0.948\n",
      "\n",
      "EPOCH 28 ...\n",
      "Validation Accuracy = 0.946\n",
      "\n",
      "EPOCH 29 ...\n",
      "Validation Accuracy = 0.921\n",
      "\n",
      "EPOCH 30 ...\n",
      "Validation Accuracy = 0.950\n",
      "\n",
      "EPOCH 31 ...\n",
      "Validation Accuracy = 0.945\n",
      "\n",
      "EPOCH 32 ...\n",
      "Validation Accuracy = 0.954\n",
      "\n",
      "EPOCH 33 ...\n",
      "Validation Accuracy = 0.931\n",
      "\n",
      "EPOCH 34 ...\n",
      "Validation Accuracy = 0.946\n",
      "\n",
      "EPOCH 35 ...\n",
      "Validation Accuracy = 0.955\n",
      "\n",
      "EPOCH 36 ...\n",
      "Validation Accuracy = 0.941\n",
      "\n",
      "EPOCH 37 ...\n",
      "Validation Accuracy = 0.948\n",
      "\n",
      "EPOCH 38 ...\n",
      "Validation Accuracy = 0.952\n",
      "\n",
      "EPOCH 39 ...\n",
      "Validation Accuracy = 0.946\n",
      "\n",
      "EPOCH 40 ...\n",
      "Validation Accuracy = 0.944\n",
      "\n",
      "EPOCH 41 ...\n",
      "Validation Accuracy = 0.947\n",
      "\n",
      "EPOCH 42 ...\n",
      "Validation Accuracy = 0.944\n",
      "\n",
      "EPOCH 43 ...\n",
      "Validation Accuracy = 0.953\n",
      "\n",
      "EPOCH 44 ...\n",
      "Validation Accuracy = 0.959\n",
      "\n",
      "EPOCH 45 ...\n",
      "Validation Accuracy = 0.942\n",
      "\n",
      "EPOCH 46 ...\n",
      "Validation Accuracy = 0.956\n",
      "\n",
      "EPOCH 47 ...\n",
      "Validation Accuracy = 0.947\n",
      "\n",
      "EPOCH 48 ...\n",
      "Validation Accuracy = 0.956\n",
      "\n",
      "EPOCH 49 ...\n",
      "Validation Accuracy = 0.952\n",
      "\n",
      "EPOCH 50 ...\n",
      "Validation Accuracy = 0.956\n",
      "\n",
      "Model saved\n"
     ]
    }
   ],
   "source": [
    "from sklearn.utils import shuffle\n",
    "\n",
    "tf.reset_default_graph()\n",
    "\n",
    "x = tf.placeholder(tf.float32, (None, 32, 32, nb_channels))\n",
    "y = tf.placeholder(tf.uint8, (None))\n",
    "dropout_keep_prob_placeholder = tf.placeholder(tf.float32)\n",
    "one_hot_y = tf.one_hot(y, 43)\n",
    "\n",
    "# Training pipeline\n",
    "logits = LeNet_dropout(x, dropout_keep_prob_placeholder, channels=nb_channels)\n",
    "cross_entropy = tf.nn.softmax_cross_entropy_with_logits(labels=one_hot_y, logits=logits)\n",
    "loss_operation = tf.reduce_mean(cross_entropy)\n",
    "optimizer = tf.train.AdamOptimizer(learning_rate=rate)\n",
    "training_operation = optimizer.minimize(loss_operation)\n",
    "\n",
    "# Evaluation\n",
    "correct_prediction = tf.equal(tf.argmax(logits, 1), tf.argmax(one_hot_y, 1))\n",
    "accuracy_operation = tf.reduce_mean(tf.cast(correct_prediction, tf.float32))\n",
    "saver = tf.train.Saver()\n",
    "\n",
    "def evaluate(X_data, y_data, dropout_keep_prob):\n",
    "    num_examples = len(X_data)\n",
    "    total_accuracy = 0\n",
    "    sess = tf.get_default_session()\n",
    "    for offset in range(0, num_examples, BATCH_SIZE):\n",
    "        batch_x, batch_y = X_data[offset:offset+BATCH_SIZE], y_data[offset:offset+BATCH_SIZE]\n",
    "        accuracy = sess.run(accuracy_operation, feed_dict={x: batch_x, \n",
    "                                                           y: batch_y,\n",
    "                                                           dropout_keep_prob_placeholder:dropout_keep_prob})\n",
    "        total_accuracy += (accuracy * len(batch_x))\n",
    "    return total_accuracy / num_examples\n",
    "\n",
    "X_train_used, y_train_used = shuffle(X_train_used, y_train_used)\n",
    "\n",
    "with tf.Session() as sess:\n",
    "    sess.run(tf.global_variables_initializer())\n",
    "    num_examples = len(X_train_used)\n",
    "\n",
    "    print(\"Training...\")\n",
    "    print()\n",
    "    for i in range(EPOCHS):\n",
    "        X_train_used, y_train_used = shuffle(X_train_used, y_train_used)\n",
    "        for offset in range(0, num_examples, BATCH_SIZE):\n",
    "            end = offset + BATCH_SIZE\n",
    "            batch_x, batch_y = X_train_used[offset:end], y_train_used[offset:end]\n",
    "            sess.run(training_operation, feed_dict={x: batch_x, \n",
    "                                                    y: batch_y, \n",
    "                                                   dropout_keep_prob_placeholder:dropout_keep_prob})\n",
    "\n",
    "        validation_accuracy = evaluate(X_valid_used, y_valid, dropout_keep_prob=1)\n",
    "        print(\"EPOCH {} ...\".format(i+1))\n",
    "        print(\"Validation Accuracy = {:.3f}\".format(validation_accuracy))\n",
    "        print()\n",
    "\n",
    "    saver.save(sess, './lenet')\n",
    "    print(\"Model saved\")\n"
   ]
  },
  {
   "cell_type": "code",
   "execution_count": 21,
   "metadata": {},
   "outputs": [
    {
     "name": "stdout",
     "output_type": "stream",
     "text": [
      "INFO:tensorflow:Restoring parameters from ./lenet\n",
      "Train Accuracy = 1.000\n",
      "Valid Accuracy = 0.956\n",
      "Test Accuracy = 0.944\n"
     ]
    }
   ],
   "source": [
    "saver = tf.train.Saver()\n",
    "with tf.Session() as sess:\n",
    "    saver.restore(sess, tf.train.latest_checkpoint('.'))\n",
    "    \n",
    "    train_accuracy = evaluate(X_train_used, y_train_used, dropout_keep_prob=1)\n",
    "    valid_accuracy = evaluate(X_valid_used, y_valid, dropout_keep_prob=1)\n",
    "    test_accuracy = evaluate(X_test_used, y_test, dropout_keep_prob=1)\n",
    "    print(\"Train Accuracy = {:.3f}\".format(train_accuracy))\n",
    "    print(\"Valid Accuracy = {:.3f}\".format(valid_accuracy))\n",
    "    print(\"Test Accuracy = {:.3f}\".format(test_accuracy))"
   ]
  },
  {
   "cell_type": "markdown",
   "metadata": {},
   "source": [
    "# Considering another model with Keras"
   ]
  },
  {
   "cell_type": "markdown",
   "metadata": {},
   "source": [
    "I considered a very similar model which keeps the original architecture of LeNet, and adds a dropout layer after flattening the last convolutional output."
   ]
  },
  {
   "cell_type": "markdown",
   "metadata": {},
   "source": [
    "Surprinsignly, I counldn't obtain the same performance with the Tensorflow implementation of the following model."
   ]
  },
  {
   "cell_type": "code",
   "execution_count": 22,
   "metadata": {
    "scrolled": false
   },
   "outputs": [
    {
     "name": "stderr",
     "output_type": "stream",
     "text": [
      "Using TensorFlow backend.\n"
     ]
    },
    {
     "name": "stdout",
     "output_type": "stream",
     "text": [
      "Train on 34799 samples, validate on 4410 samples\n",
      "Epoch 1/25\n",
      "34799/34799 [==============================] - 2s 53us/step - loss: 2.1855 - acc: 0.3975 - val_loss: 0.9301 - val_acc: 0.7270\n",
      "Epoch 2/25\n",
      "34799/34799 [==============================] - 2s 51us/step - loss: 0.8298 - acc: 0.7460 - val_loss: 0.5852 - val_acc: 0.8440\n",
      "Epoch 3/25\n",
      "34799/34799 [==============================] - 2s 51us/step - loss: 0.5747 - acc: 0.8243 - val_loss: 0.4954 - val_acc: 0.8776\n",
      "Epoch 4/25\n",
      "34799/34799 [==============================] - 2s 51us/step - loss: 0.4665 - acc: 0.8609 - val_loss: 0.4206 - val_acc: 0.8973\n",
      "Epoch 5/25\n",
      "34799/34799 [==============================] - 2s 51us/step - loss: 0.3971 - acc: 0.8800 - val_loss: 0.3714 - val_acc: 0.8984\n",
      "Epoch 6/25\n",
      "34799/34799 [==============================] - 2s 51us/step - loss: 0.3507 - acc: 0.8926 - val_loss: 0.3311 - val_acc: 0.9118\n",
      "Epoch 7/25\n",
      "34799/34799 [==============================] - 2s 51us/step - loss: 0.3295 - acc: 0.8984 - val_loss: 0.3676 - val_acc: 0.9127\n",
      "Epoch 8/25\n",
      "34799/34799 [==============================] - 2s 51us/step - loss: 0.3083 - acc: 0.9051 - val_loss: 0.3078 - val_acc: 0.9197\n",
      "Epoch 9/25\n",
      "34799/34799 [==============================] - 2s 51us/step - loss: 0.2683 - acc: 0.9180 - val_loss: 0.3269 - val_acc: 0.9263\n",
      "Epoch 10/25\n",
      "34799/34799 [==============================] - 2s 51us/step - loss: 0.2624 - acc: 0.9200 - val_loss: 0.2951 - val_acc: 0.9281\n",
      "Epoch 11/25\n",
      "34799/34799 [==============================] - 2s 51us/step - loss: 0.2519 - acc: 0.9215 - val_loss: 0.3064 - val_acc: 0.9286\n",
      "Epoch 12/25\n",
      "34799/34799 [==============================] - 2s 51us/step - loss: 0.2368 - acc: 0.9269 - val_loss: 0.3068 - val_acc: 0.9338\n",
      "Epoch 13/25\n",
      "34799/34799 [==============================] - 2s 51us/step - loss: 0.2252 - acc: 0.9310 - val_loss: 0.2657 - val_acc: 0.9317\n",
      "Epoch 14/25\n",
      "34799/34799 [==============================] - 2s 51us/step - loss: 0.2258 - acc: 0.9310 - val_loss: 0.2658 - val_acc: 0.9363\n",
      "Epoch 15/25\n",
      "34799/34799 [==============================] - 2s 51us/step - loss: 0.2033 - acc: 0.9372 - val_loss: 0.2721 - val_acc: 0.9417\n",
      "Epoch 16/25\n",
      "34799/34799 [==============================] - 2s 51us/step - loss: 0.2061 - acc: 0.9356 - val_loss: 0.2477 - val_acc: 0.9458\n",
      "Epoch 17/25\n",
      "34799/34799 [==============================] - 2s 51us/step - loss: 0.1959 - acc: 0.9392 - val_loss: 0.2927 - val_acc: 0.9404\n",
      "Epoch 18/25\n",
      "34799/34799 [==============================] - 2s 51us/step - loss: 0.1880 - acc: 0.9413 - val_loss: 0.2102 - val_acc: 0.9392\n",
      "Epoch 19/25\n",
      "34799/34799 [==============================] - 2s 50us/step - loss: 0.1877 - acc: 0.9424 - val_loss: 0.2630 - val_acc: 0.9404\n",
      "Epoch 20/25\n",
      "34799/34799 [==============================] - 2s 50us/step - loss: 0.1784 - acc: 0.9444 - val_loss: 0.2184 - val_acc: 0.9483\n",
      "Epoch 21/25\n",
      "34799/34799 [==============================] - 2s 50us/step - loss: 0.1826 - acc: 0.9419 - val_loss: 0.2475 - val_acc: 0.9435\n",
      "Epoch 22/25\n",
      "34799/34799 [==============================] - 2s 50us/step - loss: 0.1728 - acc: 0.9462 - val_loss: 0.2685 - val_acc: 0.9467\n",
      "Epoch 23/25\n",
      "34799/34799 [==============================] - 2s 50us/step - loss: 0.1620 - acc: 0.9483 - val_loss: 0.2444 - val_acc: 0.9467\n",
      "Epoch 24/25\n",
      "34799/34799 [==============================] - 2s 51us/step - loss: 0.1617 - acc: 0.9487 - val_loss: 0.2295 - val_acc: 0.9478\n",
      "Epoch 25/25\n",
      "34799/34799 [==============================] - 2s 50us/step - loss: 0.1622 - acc: 0.9493 - val_loss: 0.2579 - val_acc: 0.9438\n",
      "valid_accuracy[0.25790019413538684, 0.94376417233560095]\n"
     ]
    }
   ],
   "source": [
    "from keras.callbacks import TensorBoard\n",
    "from keras.layers import Conv2D, MaxPooling2D\n",
    "from keras.layers import Activation, Dense, Dropout, Flatten\n",
    "from keras.models import Sequential\n",
    "from keras.utils import to_categorical\n",
    "from keras.preprocessing.image import ImageDataGenerator\n",
    "from keras.layers import Lambda\n",
    "\n",
    "from time import time\n",
    "from time import strftime\n",
    "import numpy as np\n",
    "import pickle\n",
    "\n",
    "\n",
    "num_classes = 43\n",
    "batch_size = 128\n",
    "epochs= 25\n",
    "data_augmentation = False\n",
    "\n",
    "training_file = \"traffic-signs-data/train.p\"\n",
    "validation_file = \"traffic-signs-data/valid.p\"\n",
    "testing_file = \"traffic-signs-data/test.p\"\n",
    "\n",
    "with open(training_file, mode='rb') as f:\n",
    "    train = pickle.load(f)\n",
    "with open(validation_file, mode='rb') as f:\n",
    "    valid = pickle.load(f)\n",
    "with open(testing_file, mode='rb') as f:\n",
    "    test = pickle.load(f)\n",
    "\n",
    "x_train, y_train = train['features'], train['labels']\n",
    "x_valid, y_valid = valid['features'], valid['labels']\n",
    "x_test, y_test = test['features'], test['labels']\n",
    "\n",
    "# # Preprocessing\n",
    "\n",
    "# Convert class vectors to binary class matrices.\n",
    "y_train = to_categorical(y_train, num_classes)\n",
    "y_valid = to_categorical(y_valid, num_classes)\n",
    "y_test = to_categorical(y_test, num_classes)\n",
    "\n",
    "# Data augmentation\n",
    "\n",
    "datagen = ImageDataGenerator(featurewise_center=False,\n",
    "                             data_format=\"channels_last\")\n",
    "\n",
    "# Model\n",
    "model = Sequential()\n",
    "\n",
    "# Convolutional\n",
    "model.add(Lambda(lambda x: (x / 255.0) - 0.5, input_shape=x_train[0].shape))\n",
    "model.add(Conv2D(input_shape=(32, 32, 3),\n",
    "                 filters=6,\n",
    "                 kernel_size=(5, 5), strides=(1, 1),\n",
    "                 padding='valid',\n",
    "                 dilation_rate=(1, 1),\n",
    "                 use_bias=True,\n",
    "                 kernel_initializer='glorot_uniform',\n",
    "                 bias_initializer='zeros'))\n",
    "model.add(Activation('relu'))\n",
    "model.add(MaxPooling2D(pool_size=(2, 2), padding='valid'))\n",
    "\n",
    "model.add(Conv2D(filters=16,\n",
    "                 kernel_size=(5, 5), strides=(1, 1),\n",
    "                 padding='valid',\n",
    "                 dilation_rate=(1, 1),\n",
    "                 use_bias=True,\n",
    "                 kernel_initializer='glorot_uniform',\n",
    "                 bias_initializer='zeros'))\n",
    "model.add(Activation('relu'))\n",
    "model.add(MaxPooling2D(pool_size=(2, 2), padding='valid'))\n",
    "\n",
    "# Fully connected\n",
    "model.add(Flatten())\n",
    "model.add(Dropout(0.6))\n",
    "model.add(Dense(units=120))\n",
    "model.add(Activation('relu'))\n",
    "model.add(Dense(units=86))\n",
    "model.add(Activation('relu'))\n",
    "model.add(Dense(units=num_classes))\n",
    "model.add(Activation('softmax'))\n",
    "\n",
    "# Model training\n",
    "model.compile(loss='categorical_crossentropy',\n",
    "              optimizer='Adam',\n",
    "              metrics=['accuracy'])\n",
    "\n",
    "# Visualize training\n",
    "now = strftime(\"%c\")\n",
    "tensorboard = TensorBoard(log_dir=\"logs/\"+now.format(time()))\n",
    "\n",
    "if data_augmentation :\n",
    "    model.fit_generator(datagen.flow(x_train,\n",
    "                                     y_train,\n",
    "                                     batch_size=batch_size),\n",
    "                        steps_per_epoch=int(np.ceil(x_train.shape[0] / float(batch_size))),\n",
    "                        epochs=epochs,\n",
    "                        workers=4,\n",
    "                        callbacks=[tensorboard],\n",
    "                        verbose=0,\n",
    "                        validation_data=(x_valid, y_valid))\n",
    "else :\n",
    "    model.fit(x_train, y_train,\n",
    "              batch_size=batch_size,\n",
    "              epochs=epochs,\n",
    "              verbose=1,\n",
    "              callbacks=[tensorboard],\n",
    "              validation_data=(x_valid, y_valid),\n",
    "              shuffle=True)\n",
    "\n",
    "# Model evaluate\n",
    "\n",
    "loss_and_metrics = model.evaluate(x_valid, y_valid, batch_size=batch_size, verbose=0)\n",
    "print(\"valid_accuracy\" + str(loss_and_metrics))\n",
    "\n",
    "\n",
    "model_json = model.to_json()\n",
    "with open(\"logs/\" + now.format(time()) + \"/model.json\", \"w\") as json_file:\n",
    "    json_file.write(model_json)"
   ]
  },
  {
   "cell_type": "code",
   "execution_count": 23,
   "metadata": {},
   "outputs": [
    {
     "name": "stdout",
     "output_type": "stream",
     "text": [
      "test_accuracy0.939192399191\n"
     ]
    }
   ],
   "source": [
    "loss_and_metrics = model.evaluate(x_test, y_test, batch_size=batch_size, verbose=0)\n",
    "print(\"test_accuracy\" + str(loss_and_metrics[1]))"
   ]
  },
  {
   "cell_type": "markdown",
   "metadata": {},
   "source": [
    "---\n",
    "\n",
    "## Step 3: Test a Model on New Images\n",
    "\n",
    "To give yourself more insight into how your model is working, download at least five pictures of German traffic signs from the web and use your model to predict the traffic sign type.\n",
    "\n",
    "You may find `signnames.csv` useful as it contains mappings from the class id (integer) to the actual sign name."
   ]
  },
  {
   "cell_type": "markdown",
   "metadata": {},
   "source": [
    "In the following, I consider the tensorflow model."
   ]
  },
  {
   "cell_type": "markdown",
   "metadata": {},
   "source": [
    "### Load and Output the Images"
   ]
  },
  {
   "cell_type": "code",
   "execution_count": 24,
   "metadata": {},
   "outputs": [],
   "source": [
    "### Load the images and plot them here.\n",
    "### Feel free to use as many code cells as needed.\n",
    "\n",
    "new_images = []\n",
    "true_labels = [\"No entry\",\"Stop\", \"Turn left\", 'Speed limit (60km/h)', \"Yield\"]\n",
    "for i in range(1,6) :\n",
    "    image = cv2.imread('german_traffic_signs/' + str(i) + '.png')\n",
    "    resized_image = cv2.resize(image, (32, 32))\n",
    "    new_images.append(resized_image)"
   ]
  },
  {
   "cell_type": "code",
   "execution_count": 25,
   "metadata": {},
   "outputs": [
    {
     "data": {
      "image/png": "[encoded data removed]",
      "text/plain": [
       "<matplotlib.figure.Figure at 0x7ff6baa092b0>"
      ]
     },
     "metadata": {},
     "output_type": "display_data"
    }
   ],
   "source": [
    "f, axes = plt.subplots(1, 5)\n",
    "for i in range(5) : axes[i].imshow(new_images[i])"
   ]
  },
  {
   "cell_type": "code",
   "execution_count": 26,
   "metadata": {},
   "outputs": [],
   "source": [
    "new_images_preprocessed = basic_normalization(np.array(new_images))"
   ]
  },
  {
   "cell_type": "markdown",
   "metadata": {},
   "source": [
    "### Predict the Sign Type for Each Image"
   ]
  },
  {
   "cell_type": "code",
   "execution_count": 27,
   "metadata": {},
   "outputs": [
    {
     "name": "stdout",
     "output_type": "stream",
     "text": [
      "INFO:tensorflow:Restoring parameters from ./lenet\n"
     ]
    }
   ],
   "source": [
    "with tf.Session() as sess :\n",
    "    saver.restore(sess, tf.train.latest_checkpoint('.'))\n",
    "    logits_predicted = sess.run(logits, feed_dict={x: new_images_preprocessed, \n",
    "                               dropout_keep_prob_placeholder:1})\n",
    "predictions = np.argmax(logits_predicted, axis=1)"
   ]
  },
  {
   "cell_type": "code",
   "execution_count": 28,
   "metadata": {},
   "outputs": [
    {
     "name": "stdout",
     "output_type": "stream",
     "text": [
      "Predictions : \n",
      "Keep right\n",
      "Keep right\n",
      "Stop\n",
      "Speed limit (60km/h)\n",
      "Yield\n"
     ]
    }
   ],
   "source": [
    "import pandas as pd\n",
    "labels_names = pd.read_csv(\"signnames.csv\").as_matrix()\n",
    "print(\"Predictions : \")\n",
    "for i in range(5) : print(labels_names[predictions[i], 1])"
   ]
  },
  {
   "cell_type": "markdown",
   "metadata": {},
   "source": [
    "### Analyze Performance"
   ]
  },
  {
   "cell_type": "markdown",
   "metadata": {},
   "source": [
    "The accuracy is 60%. Since the test accuracy is 95%, the result is surprising, maybe the size of the sample is not significant to esttimate the accuracy."
   ]
  },
  {
   "cell_type": "markdown",
   "metadata": {},
   "source": [
    "### Output Top 5 Softmax Probabilities For Each Image Found on the Web"
   ]
  },
  {
   "cell_type": "markdown",
   "metadata": {},
   "source": [
    "For each of the new images, print out the model's softmax probabilities to show the **certainty** of the model's predictions (limit the output to the top 5 probabilities for each image). [`tf.nn.top_k`](https://www.tensorflow.org/versions/r0.12/api_docs/python/nn.html#top_k) could prove helpful here. \n",
    "\n",
    "The example below demonstrates how tf.nn.top_k can be used to find the top k predictions for each image.\n",
    "\n",
    "`tf.nn.top_k` will return the values and indices (class ids) of the top k predictions. So if k=3, for each sign, it'll return the 3 largest probabilities (out of a possible 43) and the correspoding class ids.\n",
    "\n",
    "Take this numpy array as an example. The values in the array represent predictions. The array contains softmax probabilities for five candidate images with six possible classes. `tf.nn.top_k` is used to choose the three classes with the highest probability:\n",
    "\n",
    "```\n",
    "# (5, 6) array\n",
    "a = np.array([[ 0.24879643,  0.07032244,  0.12641572,  0.34763842,  0.07893497,\n",
    "         0.12789202],\n",
    "       [ 0.28086119,  0.27569815,  0.08594638,  0.0178669 ,  0.18063401,\n",
    "         0.15899337],\n",
    "       [ 0.26076848,  0.23664738,  0.08020603,  0.07001922,  0.1134371 ,\n",
    "         0.23892179],\n",
    "       [ 0.11943333,  0.29198961,  0.02605103,  0.26234032,  0.1351348 ,\n",
    "         0.16505091],\n",
    "       [ 0.09561176,  0.34396535,  0.0643941 ,  0.16240774,  0.24206137,\n",
    "         0.09155967]])\n",
    "```\n",
    "\n",
    "Running it through `sess.run(tf.nn.top_k(tf.constant(a), k=3))` produces:\n",
    "\n",
    "```\n",
    "TopKV2(values=array([[ 0.34763842,  0.24879643,  0.12789202],\n",
    "       [ 0.28086119,  0.27569815,  0.18063401],\n",
    "       [ 0.26076848,  0.23892179,  0.23664738],\n",
    "       [ 0.29198961,  0.26234032,  0.16505091],\n",
    "       [ 0.34396535,  0.24206137,  0.16240774]]), indices=array([[3, 0, 5],\n",
    "       [0, 1, 4],\n",
    "       [0, 5, 1],\n",
    "       [1, 3, 5],\n",
    "       [1, 4, 3]], dtype=int32))\n",
    "```\n",
    "\n",
    "Looking just at the first row we get `[ 0.34763842,  0.24879643,  0.12789202]`, you can confirm these are the 3 largest probabilities in `a`. You'll also notice `[3, 0, 5]` are the corresponding indices."
   ]
  },
  {
   "cell_type": "code",
   "execution_count": 29,
   "metadata": {},
   "outputs": [
    {
     "name": "stdout",
     "output_type": "stream",
     "text": [
      "INFO:tensorflow:Restoring parameters from ./lenet\n"
     ]
    }
   ],
   "source": [
    "with tf.Session() as sess :\n",
    "    saver.restore(sess, tf.train.latest_checkpoint('.'))\n",
    "    values, indices = sess.run(tf.nn.top_k(tf.nn.softmax(logits), k=5), feed_dict={x: new_images_preprocessed, \n",
    "                               dropout_keep_prob_placeholder:1})"
   ]
  },
  {
   "cell_type": "code",
   "execution_count": 30,
   "metadata": {},
   "outputs": [
    {
     "name": "stdout",
     "output_type": "stream",
     "text": [
      "\n",
      "True prediction : No entry\n",
      "(1.0, 'Keep right')\n",
      "(0.0, 'Turn right ahead')\n",
      "(0.0, 'Roundabout mandatory')\n",
      "(0.0, 'No entry')\n",
      "(0.0, 'Turn left ahead')\n",
      "\n",
      "True prediction : Stop\n",
      "(0.57999998, 'Keep right')\n",
      "(0.41999999, 'Road work')\n",
      "(0.0, 'Turn left ahead')\n",
      "(0.0, 'Stop')\n",
      "(0.0, 'General caution')\n",
      "\n",
      "True prediction : Turn left\n",
      "(1.0, 'Stop')\n",
      "(0.0, 'Priority road')\n",
      "(0.0, 'No vehicles')\n",
      "(0.0, 'Beware of ice/snow')\n",
      "(0.0, 'Turn left ahead')\n",
      "\n",
      "True prediction : Speed limit (60km/h)\n",
      "(1.0, 'Speed limit (60km/h)')\n",
      "(0.0, 'Speed limit (80km/h)')\n",
      "(0.0, 'End of speed limit (80km/h)')\n",
      "(0.0, 'Turn left ahead')\n",
      "(0.0, 'Speed limit (50km/h)')\n",
      "\n",
      "True prediction : Yield\n",
      "(1.0, 'Yield')\n",
      "(0.0, 'Ahead only')\n",
      "(0.0, 'Go straight or right')\n",
      "(0.0, 'Road work')\n",
      "(0.0, 'Turn left ahead')\n"
     ]
    }
   ],
   "source": [
    "for i in range(5):\n",
    "    top_five = map(str, list(zip(np.around(values[i], decimals=2), \n",
    "                        labels_names[indices[i], 1] )))\n",
    "    print(\"\\nTrue prediction : \" + true_labels[i])\n",
    "    print(\"\\n\".join(top_five))"
   ]
  },
  {
   "cell_type": "markdown",
   "metadata": {},
   "source": [
    "The difference is always sifnificant between the first and second prediction for the samples we considered, the wrong predictions were predicted with a strong confidence."
   ]
  },
  {
   "cell_type": "markdown",
   "metadata": {},
   "source": [
    "### Project Writeup\n",
    "\n",
    "Once you have completed the code implementation, document your results in a project writeup using this [template](https://github.com/udacity/CarND-Traffic-Sign-Classifier-Project/blob/master/writeup_template.md) as a guide. The writeup can be in a markdown or pdf file. "
   ]
  },
  {
   "cell_type": "markdown",
   "metadata": {},
   "source": [
    "> **Note**: Once you have completed all of the code implementations and successfully answered each question above, you may finalize your work by exporting the iPython Notebook as an HTML document. You can do this by using the menu above and navigating to  \\n\",\n",
    "    \"**File -> Download as -> HTML (.html)**. Include the finished document along with this notebook as your submission."
   ]
  },
  {
   "cell_type": "markdown",
   "metadata": {},
   "source": [
    "---\n",
    "\n",
    "## Step 4 (Optional): Visualize the Neural Network's State with Test Images\n",
    "\n",
    " This Section is not required to complete but acts as an additional excersise for understaning the output of a neural network's weights. While neural networks can be a great learning device they are often referred to as a black box. We can understand what the weights of a neural network look like better by plotting their feature maps. After successfully training your neural network you can see what it's feature maps look like by plotting the output of the network's weight layers in response to a test stimuli image. From these plotted feature maps, it's possible to see what characteristics of an image the network finds interesting. For a sign, maybe the inner network feature maps react with high activation to the sign's boundary outline or to the contrast in the sign's painted symbol.\n",
    "\n",
    " Provided for you below is the function code that allows you to get the visualization output of any tensorflow weight layer you want. The inputs to the function should be a stimuli image, one used during training or a new one you provided, and then the tensorflow variable name that represents the layer's state during the training process, for instance if you wanted to see what the [LeNet lab's](https://classroom.udacity.com/nanodegrees/nd013/parts/fbf77062-5703-404e-b60c-95b78b2f3f9e/modules/6df7ae49-c61c-4bb2-a23e-6527e69209ec/lessons/601ae704-1035-4287-8b11-e2c2716217ad/concepts/d4aca031-508f-4e0b-b493-e7b706120f81) feature maps looked like for it's second convolutional layer you could enter conv2 as the tf_activation variable.\n",
    "\n",
    "For an example of what feature map outputs look like, check out NVIDIA's results in their paper [End-to-End Deep Learning for Self-Driving Cars](https://devblogs.nvidia.com/parallelforall/deep-learning-self-driving-cars/) in the section Visualization of internal CNN State. NVIDIA was able to show that their network's inner weights had high activations to road boundary lines by comparing feature maps from an image with a clear path to one without. Try experimenting with a similar test to show that your trained network's weights are looking for interesting features, whether it's looking at differences in feature maps from images with or without a sign, or even what feature maps look like in a trained network vs a completely untrained one on the same sign image.\n",
    "\n",
    "<figure>\n",
    " <img src=\"visualize_cnn.png\" width=\"380\" alt=\"Combined Image\" />\n",
    " <figcaption>\n",
    " <p></p> \n",
    " <p style=\"text-align: center;\"> Your output should look something like this (above)</p> \n",
    " </figcaption>\n",
    "</figure>\n",
    " <p></p> \n"
   ]
  },
  {
   "cell_type": "code",
   "execution_count": 31,
   "metadata": {},
   "outputs": [],
   "source": [
    "### Visualize your network's feature maps here.\n",
    "### Feel free to use as many code cells as needed.\n",
    "\n",
    "# image_input: the test image being fed into the network to produce the feature maps\n",
    "# tf_activation: should be a tf variable name used during your training procedure that represents the calculated state of a specific weight layer\n",
    "# activation_min/max: can be used to view the activation contrast in more detail, by default matplot sets min and max to the actual min and max values of the output\n",
    "# plt_num: used to plot out multiple different weight feature map sets on the same block, just extend the plt number for each new feature map entry\n",
    "\n",
    "def outputFeatureMap(image_input, tf_activation, activation_min=-1, activation_max=-1 ,plt_num=1):\n",
    "    # Here make sure to preprocess your image_input in a way your network expects\n",
    "    # with size, normalization, ect if needed\n",
    "    # image_input =\n",
    "    # Note: x should be the same name as your network's tensorflow data placeholder variable\n",
    "    # If you get an error tf_activation is not defined it may be having trouble accessing the variable from inside a function\n",
    "    activation = tf_activation.eval(session=sess,feed_dict={x : image_input})\n",
    "    featuremaps = activation.shape[3]\n",
    "    plt.figure(plt_num, figsize=(15,15))\n",
    "    for featuremap in range(featuremaps):\n",
    "        plt.subplot(6,8, featuremap+1) # sets the number of feature maps to show on each row and column\n",
    "        plt.title('FeatureMap ' + str(featuremap)) # displays the feature map number\n",
    "        if activation_min != -1 & activation_max != -1:\n",
    "            plt.imshow(activation[0,:,:, featuremap], interpolation=\"nearest\", vmin =activation_min, vmax=activation_max, cmap=\"gray\")\n",
    "        elif activation_max != -1:\n",
    "            plt.imshow(activation[0,:,:, featuremap], interpolation=\"nearest\", vmax=activation_max, cmap=\"gray\")\n",
    "        elif activation_min !=-1:\n",
    "            plt.imshow(activation[0,:,:, featuremap], interpolation=\"nearest\", vmin=activation_min, cmap=\"gray\")\n",
    "        else:\n",
    "            plt.imshow(activation[0,:,:, featuremap], interpolation=\"nearest\", cmap=\"gray\")"
   ]
  }
 ],
 "metadata": {
  "anaconda-cloud": {},
  "kernelspec": {
   "display_name": "Environment (conda_tensorflow_p36)",
   "language": "python",
   "name": "conda_tensorflow_p36"
  },
  "language_info": {
   "codemirror_mode": {
    "name": "ipython",
    "version": 3
   },
   "file_extension": ".py",
   "mimetype": "text/x-python",
   "name": "python",
   "nbconvert_exporter": "python",
   "pygments_lexer": "ipython3",
   "version": "3.6.3"
  }
 },
 "nbformat": 4,
 "nbformat_minor": 1
}
