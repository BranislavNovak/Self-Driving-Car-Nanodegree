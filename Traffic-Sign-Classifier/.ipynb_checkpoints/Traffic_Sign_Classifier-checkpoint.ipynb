{
 "cells": [
  {
   "cell_type": "markdown",
   "metadata": {},
   "source": [
    "# Self-Driving Car Engineer Nanodegree\n",
    "\n",
    "## Deep Learning\n",
    "\n",
    "## Project: Build a Traffic Sign Recognition Classifier\n",
    "\n",
    "In this notebook, a template is provided for you to implement your functionality in stages, which is required to successfully complete this project. If additional code is required that cannot be included in the notebook, be sure that the Python code is successfully imported and included in your submission if necessary. \n",
    "\n",
    "> **Note**: Once you have completed all of the code implementations, you need to finalize your work by exporting the iPython Notebook as an HTML document. Before exporting the notebook to html, all of the code cells need to have been run so that reviewers can see the final implementation and output. You can then export the notebook by using the menu above and navigating to  \\n\",\n",
    "    \"**File -> Download as -> HTML (.html)**. Include the finished document along with this notebook as your submission. \n",
    "\n",
    "In addition to implementing code, there is a writeup to complete. The writeup should be completed in a separate file, which can be either a markdown file or a pdf document. There is a [write up template](https://github.com/udacity/CarND-Traffic-Sign-Classifier-Project/blob/master/writeup_template.md) that can be used to guide the writing process. Completing the code template and writeup template will cover all of the [rubric points](https://review.udacity.com/#!/rubrics/481/view) for this project.\n",
    "\n",
    "The [rubric](https://review.udacity.com/#!/rubrics/481/view) contains \"Stand Out Suggestions\" for enhancing the project beyond the minimum requirements. The stand out suggestions are optional. If you decide to pursue the \"stand out suggestions\", you can include the code in this Ipython notebook and also discuss the results in the writeup file.\n",
    "\n",
    "\n",
    ">**Note:** Code and Markdown cells can be executed using the **Shift + Enter** keyboard shortcut. In addition, Markdown cells can be edited by typically double-clicking the cell to enter edit mode."
   ]
  },
  {
   "cell_type": "markdown",
   "metadata": {},
   "source": [
    "---\n",
    "## Step 0: Load The Data"
   ]
  },
  {
   "cell_type": "code",
   "execution_count": 1,
   "metadata": {
    "collapsed": true
   },
   "outputs": [],
   "source": [
    "# Load pickled data\n",
    "import pickle\n",
    "import numpy as np\n",
    "import pandas as pd\n",
    "import tensorflow as tf\n",
    "import cv2\n",
    "# TODO: Fill this in based on where you saved the training and testing data\n",
    "\n",
    "training_file = \"traffic-signs-data/train.p\"\n",
    "validation_file= \"traffic-signs-data/valid.p\"\n",
    "testing_file = \"traffic-signs-data/test.p\"\n",
    "\n",
    "with open(training_file, mode='rb') as f:\n",
    "    train = pickle.load(f)\n",
    "with open(validation_file, mode='rb') as f:\n",
    "    valid = pickle.load(f)\n",
    "with open(testing_file, mode='rb') as f:\n",
    "    test = pickle.load(f)\n",
    "    \n",
    "X_train, y_train = train['features'], train['labels']\n",
    "X_valid, y_valid = valid['features'], valid['labels']\n",
    "X_test, y_test = test['features'], test['labels']"
   ]
  },
  {
   "cell_type": "markdown",
   "metadata": {},
   "source": [
    "---\n",
    "\n",
    "## Step 1: Dataset Summary & Exploration\n",
    "\n",
    "The pickled data is a dictionary with 4 key/value pairs:\n",
    "\n",
    "- `'features'` is a 4D array containing raw pixel data of the traffic sign images, (num examples, width, height, channels).\n",
    "- `'labels'` is a 1D array containing the label/class id of the traffic sign. The file `signnames.csv` contains id -> name mappings for each id.\n",
    "- `'sizes'` is a list containing tuples, (width, height) representing the original width and height the image.\n",
    "- `'coords'` is a list containing tuples, (x1, y1, x2, y2) representing coordinates of a bounding box around the sign in the image. **THESE COORDINATES ASSUME THE ORIGINAL IMAGE. THE PICKLED DATA CONTAINS RESIZED VERSIONS (32 by 32) OF THESE IMAGES**\n",
    "\n",
    "Complete the basic data summary below. Use python, numpy and/or pandas methods to calculate the data summary rather than hard coding the results. For example, the [pandas shape method](http://pandas.pydata.org/pandas-docs/stable/generated/pandas.DataFrame.shape.html) might be useful for calculating some of the summary results. "
   ]
  },
  {
   "cell_type": "markdown",
   "metadata": {},
   "source": [
    "### Provide a Basic Summary of the Data Set Using Python, Numpy and/or Pandas"
   ]
  },
  {
   "cell_type": "code",
   "execution_count": 2,
   "metadata": {},
   "outputs": [
    {
     "name": "stdout",
     "output_type": "stream",
     "text": [
      "Number of training examples = 34799\n",
      "Number of testing examples = 12630\n",
      "Image data shape = (32, 32)\n",
      "Number of classes = 43\n"
     ]
    }
   ],
   "source": [
    "### Replace each question mark with the appropriate value. \n",
    "### Use python, pandas or numpy methods rather than hard coding the results\n",
    "\n",
    "# TODO: Number of training examples\n",
    "n_train = X_train.shape[0]\n",
    "\n",
    "# TODO: Number of validation examples\n",
    "n_validation = X_valid.shape[0]\n",
    "\n",
    "# TODO: Number of testing examples.\n",
    "n_test = X_test.shape[0]\n",
    "\n",
    "# TODO: What's the shape of an traffic sign image?\n",
    "image_shape = (X_train.shape[1], X_train.shape[2])\n",
    "\n",
    "# TODO: How many unique classes/labels there are in the dataset.\n",
    "n_classes = np.max(y_train) + 1\n",
    "\n",
    "print(\"Number of training examples =\", n_train)\n",
    "print(\"Number of testing examples =\", n_test)\n",
    "print(\"Image data shape =\", image_shape)\n",
    "print(\"Number of classes =\", n_classes)"
   ]
  },
  {
   "cell_type": "markdown",
   "metadata": {},
   "source": [
    "### Include an exploratory visualization of the dataset"
   ]
  },
  {
   "cell_type": "markdown",
   "metadata": {},
   "source": [
    "Visualize the German Traffic Signs Dataset using the pickled file(s). This is open ended, suggestions include: plotting traffic sign images, plotting the count of each sign, etc. \n",
    "\n",
    "The [Matplotlib](http://matplotlib.org/) [examples](http://matplotlib.org/examples/index.html) and [gallery](http://matplotlib.org/gallery.html) pages are a great resource for doing visualizations in Python.\n",
    "\n",
    "**NOTE:** It's recommended you start with something simple first. If you wish to do more, come back to it after you've completed the rest of the sections. It can be interesting to look at the distribution of classes in the training, validation and test set. Is the distribution the same? Are there more examples of some classes than others?"
   ]
  },
  {
   "cell_type": "code",
   "execution_count": 3,
   "metadata": {
    "collapsed": true
   },
   "outputs": [],
   "source": [
    "### Data exploration visualization code goes here.\n",
    "### Feel free to use as many code cells as needed.\n",
    "import matplotlib.pyplot as plt\n",
    "# Visualizations will be shown in the notebook.\n",
    "%matplotlib inline"
   ]
  },
  {
   "cell_type": "code",
   "execution_count": 4,
   "metadata": {
    "collapsed": true
   },
   "outputs": [],
   "source": [
    "def plot_image(image_number, array, cmap=None):\n",
    "    image = array[image_number]\n",
    "    plt.imshow(image, cmap=cmap)"
   ]
  },
  {
   "cell_type": "code",
   "execution_count": 5,
   "metadata": {},
   "outputs": [
    {
     "data": {
      "image/png": "[encoded data removed]",
      "text/plain": [
       "<matplotlib.figure.Figure at 0x7f2a37aaeda0>"
      ]
     },
     "metadata": {},
     "output_type": "display_data"
    }
   ],
   "source": [
    "plot_image(17031, X_train)"
   ]
  },
  {
   "cell_type": "code",
   "execution_count": 6,
   "metadata": {
    "scrolled": true
   },
   "outputs": [
    {
     "data": {
      "image/png": "[encoded data removed]",
      "text/plain": [
       "<matplotlib.figure.Figure at 0x7f2a37539198>"
      ]
     },
     "metadata": {},
     "output_type": "display_data"
    },
    {
     "data": {
      "image/png": "[encoded data removed]",
      "text/plain": [
       "<matplotlib.figure.Figure at 0x7f2a37463b00>"
      ]
     },
     "metadata": {},
     "output_type": "display_data"
    },
    {
     "data": {
      "image/png": "[encoded data removed]",
      "text/plain": [
       "<matplotlib.figure.Figure at 0x7f2a3745fcf8>"
      ]
     },
     "metadata": {},
     "output_type": "display_data"
    }
   ],
   "source": [
    "plt.title('Train Labels')\n",
    "plt.hist(y_train, bins='auto')\n",
    "plt.show()\n",
    "\n",
    "plt.title('Valid Labels')\n",
    "plt.hist(y_valid, bins='auto')\n",
    "plt.show()\n",
    "\n",
    "plt.title('Test Labels')\n",
    "plt.hist(y_test, bins='auto')\n",
    "plt.show()"
   ]
  },
  {
   "cell_type": "code",
   "execution_count": 7,
   "metadata": {},
   "outputs": [
    {
     "data": {
      "image/png": "[encoded data removed]",
      "text/plain": [
       "<matplotlib.figure.Figure at 0x7f2a37aaecf8>"
      ]
     },
     "metadata": {},
     "output_type": "display_data"
    }
   ],
   "source": [
    "plt.title('Train pixel')\n",
    "plt.hist(X_train[:,10,11,1])\n",
    "plt.show()"
   ]
  },
  {
   "cell_type": "markdown",
   "metadata": {},
   "source": [
    "\n",
    "----\n",
    "\n",
    "## Step 2: Design and Test a Model Architecture\n",
    "\n",
    "Design and implement a deep learning model that learns to recognize traffic signs. Train and test your model on the [German Traffic Sign Dataset](http://benchmark.ini.rub.de/?section=gtsrb&subsection=dataset).\n",
    "\n",
    "The LeNet-5 implementation shown in the [classroom](https://classroom.udacity.com/nanodegrees/nd013/parts/fbf77062-5703-404e-b60c-95b78b2f3f9e/modules/6df7ae49-c61c-4bb2-a23e-6527e69209ec/lessons/601ae704-1035-4287-8b11-e2c2716217ad/concepts/d4aca031-508f-4e0b-b493-e7b706120f81) at the end of the CNN lesson is a solid starting point. You'll have to change the number of classes and possibly the preprocessing, but aside from that it's plug and play! \n",
    "\n",
    "With the LeNet-5 solution from the lecture, you should expect a validation set accuracy of about 0.89. To meet specifications, the validation set accuracy will need to be at least 0.93. It is possible to get an even higher accuracy, but 0.93 is the minimum for a successful project submission. \n",
    "\n",
    "There are various aspects to consider when thinking about this problem:\n",
    "\n",
    "- Neural network architecture (is the network over or underfitting?)\n",
    "- Play around preprocessing techniques (normalization, rgb to grayscale, etc)\n",
    "- Number of examples per label (some have more than others).\n",
    "- Generate fake data.\n",
    "\n",
    "Here is an example of a [published baseline model on this problem](http://yann.lecun.com/exdb/publis/pdf/sermanet-ijcnn-11.pdf). It's not required to be familiar with the approach used in the paper but, it's good practice to try to read papers like these."
   ]
  },
  {
   "cell_type": "markdown",
   "metadata": {},
   "source": [
    "### Pre-process the Data Set (normalization, grayscale, etc.)"
   ]
  },
  {
   "cell_type": "markdown",
   "metadata": {},
   "source": [
    "Minimally, the image data should be normalized so that the data has mean zero and equal variance. For image data, `(pixel - 128)/ 128` is a quick way to approximately normalize the data and can be used in this project. \n",
    "\n",
    "Other pre-processing steps are optional. You can try different techniques to see if it improves performance. \n",
    "\n",
    "Use the code cell (or multiple code cells, if necessary) to implement the first step of your project."
   ]
  },
  {
   "cell_type": "code",
   "execution_count": 8,
   "metadata": {
    "collapsed": true
   },
   "outputs": [],
   "source": [
    "### Preprocess the data here. It is required to normalize the data. Other preprocessing steps could include \n",
    "### converting to grayscale, etc.\n",
    "### Feel free to use as many code cells as needed."
   ]
  },
  {
   "cell_type": "code",
   "execution_count": 9,
   "metadata": {
    "collapsed": true
   },
   "outputs": [],
   "source": [
    "def basic_normalization(image_dataset):\n",
    "    return (image_dataset / 255.0) - 0.5"
   ]
  },
  {
   "cell_type": "code",
   "execution_count": 10,
   "metadata": {
    "collapsed": true
   },
   "outputs": [],
   "source": [
    "def normalization(image_dataset, X_train):\n",
    "    mean_image = np.mean(X_train, axis=0)\n",
    "    std_image = np.std(X_train, axis=0)\n",
    "    return np.divide(image_dataset - mean_image, std_image)"
   ]
  },
  {
   "cell_type": "code",
   "execution_count": 11,
   "metadata": {
    "collapsed": true
   },
   "outputs": [],
   "source": [
    "def to_grayscale(image_dataset) : \n",
    "    product = np.dot(image_dataset, [0.299, 0.587, 0.114])\n",
    "    product = np.reshape(product, (image_dataset.shape[0], image_dataset.shape[1], image_dataset.shape[2], 1))\n",
    "    return product"
   ]
  },
  {
   "cell_type": "markdown",
   "metadata": {},
   "source": [
    "Tranforming to grayscale"
   ]
  },
  {
   "cell_type": "code",
   "execution_count": 12,
   "metadata": {
    "collapsed": true
   },
   "outputs": [],
   "source": [
    "# X_train_gray = to_grayscale(X_train)\n",
    "# X_valid_gray = to_grayscale(X_valid)\n",
    "# X_test_gray = to_grayscale(X_test)"
   ]
  },
  {
   "cell_type": "markdown",
   "metadata": {},
   "source": [
    "Data augmentation with rotation"
   ]
  },
  {
   "cell_type": "code",
   "execution_count": 13,
   "metadata": {
    "collapsed": true
   },
   "outputs": [],
   "source": [
    "# X_train_gray_rot = np.rot90(X_train_gray, axes=(1, 2), k=1)\n",
    "# X_train_gray_rot_2 = np.rot90(X_train_gray, axes=(1, 2), k=2)\n",
    "# X_train_gray_augmented = np.append(X_train_gray, X_train_gray_rot, axis=0).copy()\n",
    "# X_train_gray_augmented = np.append(X_train_gray_augmented, X_train_gray_rot_2, axis=0).copy()\n",
    "# y_train_2 = np.append(y_train, y_train).copy()\n",
    "# y_train = np.append(y_train_2, y_train).copy()"
   ]
  },
  {
   "cell_type": "markdown",
   "metadata": {},
   "source": [
    "Normalization"
   ]
  },
  {
   "cell_type": "code",
   "execution_count": 14,
   "metadata": {
    "collapsed": true
   },
   "outputs": [],
   "source": [
    "# X_train_norm = basic_normalization(X_train_gray)\n",
    "# X_valid_norm = basic_normalization(X_valid_gray)\n",
    "# X_test_norm = basic_normalization(X_test_gray)"
   ]
  },
  {
   "cell_type": "code",
   "execution_count": 15,
   "metadata": {
    "collapsed": true
   },
   "outputs": [],
   "source": [
    "# X_train_norm = normalization(X_train_gray, X_train)\n",
    "# X_valid_norm = normalization(X_valid_gray, X_train)\n",
    "# X_test_norm = normalization(X_test_gray, X_train)"
   ]
  },
  {
   "cell_type": "code",
   "execution_count": 16,
   "metadata": {
    "collapsed": true
   },
   "outputs": [],
   "source": [
    "X_train_norm = basic_normalization(X_train)\n",
    "X_valid_norm = basic_normalization(X_valid)\n",
    "X_test_norm = basic_normalization(X_test)"
   ]
  },
  {
   "cell_type": "code",
   "execution_count": 17,
   "metadata": {},
   "outputs": [
    {
     "data": {
      "image/png": "[encoded data removed]",
      "text/plain": [
       "<matplotlib.figure.Figure at 0x7f2a371f8f28>"
      ]
     },
     "metadata": {},
     "output_type": "display_data"
    }
   ],
   "source": [
    "import matplotlib.pyplot as plt\n",
    "plt.hist(X_train_norm[:,5,10])  # arguments are passed to np.histogram\n",
    "plt.title(\"Histogram with 'auto' bins\")\n",
    "plt.show()"
   ]
  },
  {
   "cell_type": "markdown",
   "metadata": {},
   "source": [
    "### Model Architecture"
   ]
  },
  {
   "cell_type": "code",
   "execution_count": 18,
   "metadata": {
    "collapsed": true
   },
   "outputs": [],
   "source": [
    "### Define your architecture here.\n",
    "### Feel free to use as many code cells as needed."
   ]
  },
  {
   "cell_type": "markdown",
   "metadata": {},
   "source": [
    "I am going to start from LeNet architecture, which I implemented in the previous lab."
   ]
  },
  {
   "cell_type": "code",
   "execution_count": 19,
   "metadata": {
    "collapsed": true
   },
   "outputs": [],
   "source": [
    "# from tensorflow.contrib.layers import flatten\n",
    "\n",
    "# def LeNet(x, dropout_keep_prob, nb_chanels):    \n",
    "#     # Arguments used for tf.truncated_normal, randomly defines variables for the weights and biases for each layer\n",
    "#     mu = 0\n",
    "#     sigma = 0.1\n",
    "    \n",
    "#     # The weights and the biaises of the network\n",
    "#     # The shape of the convolutional weights is as follows : (filter_height, filter_width, in_channels, out_channels)    \n",
    "            \n",
    "#     # TODO: Layer 1: Convolutional. Input = 32x32x3. Output = 28x28x6.\n",
    "    \n",
    "#     W1 = tf.get_variable(shape=[5, 5, nb_chanels, 6], initializer=tf.contrib.layers.xavier_initializer_conv2d(), name=\"conv1_W\")\n",
    "#     b1 = tf.Variable(tf.random_normal([6]), name=\"b1\")\n",
    "#     conv1 = tf.nn.conv2d(x,\n",
    "#                 W1,\n",
    "#                 strides = [1,1, 1, 1] ,\n",
    "#                 padding = \"VALID\",\n",
    "#                 use_cudnn_on_gpu=True,\n",
    "#                 name=\"Conv1\")\n",
    "#     conv1 = tf.add(conv1, b1)\n",
    "    \n",
    "#     # TODO: Activation.\n",
    "    \n",
    "#     conv1 = tf.nn.relu(conv1,\n",
    "#                       name=\"conv1-relu\")\n",
    "    \n",
    "#     # TODO: Pooling. Input = 28x28x6. Output = 14x14x6.\n",
    "    \n",
    "#     conv1 = tf.nn.max_pool(value = conv1,\n",
    "#                           ksize = [1,2,2,1],\n",
    "#                           strides = [1,2,2,1],\n",
    "#                           padding=\"VALID\",\n",
    "#                           data_format='NHWC')\n",
    "    \n",
    "#     # TODO: Layer 2: Convolutional. Output = 10x10x16.\n",
    "    \n",
    "#     W2 = tf.get_variable(shape=[5, 5, 6, 16], initializer=tf.contrib.layers.xavier_initializer_conv2d(), name=\"conv2_W\")\n",
    "#     b2 = tf.Variable(tf.random_normal([16]), name=\"b2\")\n",
    "#     conv2 = tf.nn.conv2d(conv1,\n",
    "#                 W2,\n",
    "#                 strides = [1,1, 1, 1] ,\n",
    "#                 padding = \"VALID\",\n",
    "#                 use_cudnn_on_gpu=True,\n",
    "#                 name=\"Conv2\")\n",
    "#     conv2 = tf.add(conv2, b2)\n",
    "\n",
    "#     # TODO: Activation.\n",
    "    \n",
    "#     conv2 = tf.nn.relu(conv2, name=\"conv2-relu\")\n",
    "\n",
    "#     # TODO: Pooling. Input = 10x10x16. Output = 5x5x16.\n",
    "    \n",
    "#     conv2 = tf.nn.max_pool(value = conv2,\n",
    "#                           ksize = [1,2,2,1],\n",
    "#                           strides = [1,2,2,1],\n",
    "#                           padding=\"VALID\",\n",
    "#                           data_format='NHWC')\n",
    "\n",
    "#     # TODO: Flatten. Input = 5x5x16. Output = 400.\n",
    "    \n",
    "#     fc0 = flatten(conv2)\n",
    "#     fc0_dropout = tf.nn.dropout(fc0, keep_prob=dropout_keep_prob, noise_shape=tf.shape(fc0))\n",
    "    \n",
    "#     # TODO: Layer 3: Fully Connected. Input = 400. Output = 120.\n",
    "    \n",
    "# #     W3 = tf.Variable(tf.truncated_normal(shape=(400, 120), mean = mu, stddev = sigma), name=\"W3\")\n",
    "#     W3 = tf.get_variable(shape=[400, 120], initializer=tf.contrib.layers.xavier_initializer(), name=\"W3\")\n",
    "#     b3 = tf.Variable(tf.random_normal([120]), name=\"b3\")\n",
    "#     fc1 = tf.add(tf.matmul(fc0_dropout, W3), b3)\n",
    "    \n",
    "#     # TODO: Activation.\n",
    "    \n",
    "#     fc1 = tf.nn.relu(fc1, name=\"fc1-relu\")\n",
    "# #     fc1_dropout = tf.nn.dropout(fc1, keep_prob=dropout_keep_prob, noise_shape=tf.shape(fc1))\n",
    "    \n",
    "#     # TODO: Layer 4: Fully Connected. Input = 120. Output = 84.\n",
    "# #     W4 = tf.Variable(tf.truncated_normal(shape=(120, 84), mean = mu, stddev = sigma), name=\"W4\")\n",
    "#     W4 = tf.get_variable(shape=[120, 84], initializer=tf.contrib.layers.xavier_initializer(), name=\"W4\")\n",
    "#     b4 = tf.Variable(tf.random_normal([84]), name=\"b4\")\n",
    "#     fc2 = tf.add(tf.matmul(fc1, W4), b4)\n",
    "\n",
    "#     # TODO: Activation.\n",
    "    \n",
    "#     fc2 = tf.nn.relu(fc2, name=\"fc2-relu\")\n",
    "# #     fc2_dropout = tf.nn.dropout(fc2, keep_prob=dropout_keep_prob, noise_shape=tf.shape(fc2))\n",
    "\n",
    "#     # TODO: Layer 5: Fully Connected. Input = 84. Output = 43.\n",
    "# #     W5 = tf.Variable(tf.truncated_normal(shape=(84, 43), mean = mu, stddev = sigma), name=\"W5\")\n",
    "#     W5 = tf.get_variable(shape=[84, 43], initializer=tf.contrib.layers.xavier_initializer(), name=\"W5\")\n",
    "#     b5 = tf.Variable(tf.random_normal([43]), name=\"b5\")\n",
    "#     logits = tf.add(tf.matmul(fc2, W5), b5)\n",
    "    \n",
    "#     return logits"
   ]
  },
  {
   "cell_type": "code",
   "execution_count": 20,
   "metadata": {
    "collapsed": true
   },
   "outputs": [],
   "source": [
    "from tensorflow.contrib.layers import flatten\n",
    "\n",
    "def LeNet(x, dropout_keep_prob, nb_chanels):    \n",
    "    # Arguments used for tf.truncated_normal, randomly defines variables for the weights and biases for each layer\n",
    "    mu = 0\n",
    "    sigma = 0.01\n",
    "    \n",
    "    # The weights and the biaises of the network\n",
    "    # The shape of the convolutional weights is as follows : (filter_height, filter_width, in_channels, out_channels)    \n",
    "            \n",
    "    # TODO: Layer 1: Convolutional. Input = 32x32x1. Output = 28x28x6.\n",
    "    \n",
    "    W1 = tf.Variable(tf.truncated_normal(shape=(5, 5, nb_chanels, 6), mean = mu, stddev = sigma), name=\"W1\")\n",
    "    b1 = tf.Variable(tf.random_normal([6]), name=\"b1\")\n",
    "    conv1 = tf.nn.conv2d(x,\n",
    "                W1,\n",
    "                strides = [1,1, 1, 1] ,\n",
    "                padding = \"VALID\",\n",
    "                use_cudnn_on_gpu=None,\n",
    "                name=\"Conv1\")\n",
    "    conv1 = tf.add(conv1, b1)\n",
    "    \n",
    "    # TODO: Activation.\n",
    "    \n",
    "    conv1 = tf.nn.relu(conv1,\n",
    "                      name=\"conv1-relu\")\n",
    "    \n",
    "    # TODO: Pooling. Input = 28x28x6. Output = 14x14x6.\n",
    "    \n",
    "    conv1 = tf.nn.max_pool(value = conv1,\n",
    "                          ksize = [1,2,2,1],\n",
    "                          strides = [1,2,2,1],\n",
    "                          padding=\"VALID\",\n",
    "                          data_format='NHWC')\n",
    "    \n",
    "    # TODO: Layer 2: Convolutional. Output = 10x10x16.\n",
    "    \n",
    "    W2 = tf.Variable(tf.truncated_normal(shape=(5, 5, 6, 16), mean = mu, stddev = sigma), name=\"W2\")\n",
    "    b2 = tf.Variable(tf.random_normal([16]), name=\"b2\")\n",
    "    conv2 = tf.nn.conv2d(conv1,\n",
    "                W2,\n",
    "                strides = [1,1, 1, 1] ,\n",
    "                padding = \"VALID\",\n",
    "                use_cudnn_on_gpu=None,\n",
    "                name=\"Conv2\")\n",
    "    conv2 = tf.add(conv2, b2)\n",
    "\n",
    "    # TODO: Activation.\n",
    "    \n",
    "    conv2 = tf.nn.relu(conv2, name=\"conv2-relu\")\n",
    "\n",
    "    # TODO: Pooling. Input = 10x10x16. Output = 5x5x16.\n",
    "    \n",
    "    conv2 = tf.nn.max_pool(value = conv2,\n",
    "                          ksize = [1,2,2,1],\n",
    "                          strides = [1,2,2,1],\n",
    "                          padding=\"VALID\",\n",
    "                          data_format='NHWC')\n",
    "\n",
    "    # TODO: Flatten. Input = 5x5x16. Output = 400.\n",
    "    \n",
    "    fc0 = flatten(conv2)\n",
    "    fc1_dropout = tf.nn.dropout(fc0, keep_prob=dropout_keep_prob, noise_shape=tf.shape(fc0))\n",
    "    \n",
    "    # TODO: Layer 3: Fully Connected. Input = 400. Output = 120.\n",
    "    \n",
    "    W3 = tf.Variable(tf.truncated_normal(shape=(400, 200), mean = mu, stddev = sigma), name=\"W3\")\n",
    "    b3 = tf.Variable(tf.random_normal([200]), name=\"b3\")\n",
    "    fc1 = tf.add(tf.matmul(fc1_dropout, W3), b3)\n",
    "    \n",
    "    # TODO: Activation.\n",
    "    \n",
    "    fc1 = tf.nn.relu(fc1, name=\"fc1-relu\")\n",
    "    fc2_dropout = tf.nn.dropout(fc1, keep_prob=1, noise_shape=tf.shape(fc1))\n",
    "    \n",
    "    # TODO: Layer 4: Fully Connected. Input = 120. Output = 84.\n",
    "    W4 = tf.Variable(tf.truncated_normal(shape=(200, 100), mean = mu, stddev = sigma), name=\"W4\")\n",
    "    b4 = tf.Variable(tf.random_normal([100]), name=\"b4\")\n",
    "    fc2 = tf.add(tf.matmul(fc2_dropout, W4), b4)\n",
    "    \n",
    "    # TODO: Activation.\n",
    "    \n",
    "    fc2 = tf.nn.relu(fc2, name=\"fc2-relu\")\n",
    "#     fc3_dropout = tf.nn.dropout(fc2, keep_prob=0.9, noise_shape=tf.shape(fc2))\n",
    "\n",
    "    # TODO: Layer 5: Fully Connected. Input = 84. Output = 10.\n",
    "    W5 = tf.Variable(tf.truncated_normal(shape=(100, 43), mean = mu, stddev = sigma), name=\"W5\")\n",
    "    b5 = tf.Variable(tf.random_normal([43]), name=\"b5\")\n",
    "    logits = tf.add(tf.matmul(fc2, W5), b5)\n",
    "    \n",
    "    return logits"
   ]
  },
  {
   "cell_type": "code",
   "execution_count": 21,
   "metadata": {
    "collapsed": true
   },
   "outputs": [],
   "source": [
    "# from tensorflow.contrib.layers import flatten\n",
    "\n",
    "def LeNet_modified(x, dropout_keep_prob, nb_chanels):    \n",
    "    # Arguments used for tf.truncated_normal, randomly defines variables for the weights and biases for each layer\n",
    "    mu = 0\n",
    "    sigma = 0.01\n",
    "    \n",
    "    # The weights and the biaises of the network\n",
    "    # The shape of the convolutional weights is as follows : (filter_height, filter_width, in_channels, out_channels)    \n",
    "            \n",
    "    # TODO: Layer 1: Convolutional. Input = 32x32x3. Output = 28x28x6.\n",
    "    \n",
    "    W1 = tf.get_variable(shape=[5, 5, nb_chanels, 6], initializer=tf.contrib.layers.xavier_initializer_conv2d(), name=\"conv1_W\")\n",
    "    b1 = tf.Variable(tf.random_normal([6]), name=\"b1\")\n",
    "    conv1 = tf.nn.conv2d(x,\n",
    "                W1,\n",
    "                strides = [1,1, 1, 1] ,\n",
    "                padding = \"VALID\",\n",
    "                use_cudnn_on_gpu=True,\n",
    "                name=\"Conv1\")\n",
    "    conv1 = tf.add(conv1, b1)\n",
    "    \n",
    "    # TODO: Activation.\n",
    "    \n",
    "    conv1 = tf.nn.relu(conv1,\n",
    "                      name=\"conv1-relu\")\n",
    "    \n",
    "    # TODO: Pooling. Input = 28x28x6. Output = 14x14x6.\n",
    "    \n",
    "    conv1 = tf.nn.max_pool(value = conv1,\n",
    "                          ksize = [1,2,2,1],\n",
    "                          strides = [1,2,2,1],\n",
    "                          padding=\"VALID\",\n",
    "                          data_format='NHWC')\n",
    "    \n",
    "    # TODO: Layer 2: Convolutional. Output = 12x12x10.\n",
    "    \n",
    "    W2 = tf.get_variable(shape=[3, 3, 6, 10], initializer=tf.contrib.layers.xavier_initializer_conv2d(), name=\"conv2_W\")\n",
    "    b2 = tf.Variable(tf.random_normal([10]), name=\"b2\")\n",
    "    conv2 = tf.nn.conv2d(conv1,\n",
    "                W2,\n",
    "                strides = [1,1, 1, 1] ,\n",
    "                padding = \"VALID\",\n",
    "                use_cudnn_on_gpu=True,\n",
    "                name=\"Conv2\")\n",
    "    conv2 = tf.add(conv2, b2)\n",
    "\n",
    "    # TODO: Activation.\n",
    "    \n",
    "    conv2 = tf.nn.relu(conv2, name=\"conv2-relu\")\n",
    "    \n",
    "    # TODO: Layer 3: Convolutional. Output = 10x10x16.\n",
    "    \n",
    "    W3 = tf.get_variable(shape=[3, 3, 10, 16], initializer=tf.contrib.layers.xavier_initializer_conv2d(), name=\"conv3_W\")\n",
    "    b3 = tf.Variable(tf.random_normal([16]), name=\"b2\")\n",
    "    conv3 = tf.nn.conv2d(conv2,\n",
    "                W3,\n",
    "                strides = [1,1, 1, 1] ,\n",
    "                padding = \"VALID\",\n",
    "                use_cudnn_on_gpu=True,\n",
    "                name=\"Conv3\")\n",
    "    conv3 = tf.add(conv3, b3)\n",
    "\n",
    "    # TODO: Activation.\n",
    "    \n",
    "    conv3 = tf.nn.relu(conv3, name=\"conv3-relu\")\n",
    "\n",
    "    # TODO: Pooling. Input = 10x10x16. Output = 5x5x16.\n",
    "    \n",
    "    conv3 = tf.nn.max_pool(value = conv3,\n",
    "                          ksize = [1,2,2,1],\n",
    "                          strides = [1,2,2,1],\n",
    "                          padding=\"VALID\",\n",
    "                          data_format='NHWC')\n",
    "\n",
    "    # TODO: Flatten. Input = 5x5x16. Output = 400.\n",
    "    \n",
    "    fc0 = flatten(conv3)\n",
    "    fc0_dropout = tf.nn.dropout(fc0, keep_prob=dropout_keep_prob, noise_shape=tf.shape(fc0))\n",
    "    \n",
    "    # TODO: Layer 3: Fully Connected. Input = 400. Output = 120.\n",
    "    \n",
    "#     W3 = tf.Variable(tf.truncated_normal(shape=(400, 120), mean = mu, stddev = sigma), name=\"W3\")\n",
    "    W3 = tf.get_variable(shape=[400, 100], initializer=tf.contrib.layers.xavier_initializer(), name=\"W3\")\n",
    "    b3 = tf.Variable(tf.random_normal([100]), name=\"b3\")\n",
    "    fc1 = tf.add(tf.matmul(fc0_dropout, W3), b3)\n",
    "    \n",
    "    # TODO: Activation.\n",
    "    \n",
    "    fc1 = tf.nn.relu(fc1, name=\"fc1-relu\")\n",
    "#     fc1_dropout = tf.nn.dropout(fc1, keep_prob=dropout_keep_prob, noise_shape=tf.shape(fc1))\n",
    "    \n",
    "    # TODO: Layer 4: Fully Connected. Input = 120. Output = 84.\n",
    "#     W4 = tf.Variable(tf.truncated_normal(shape=(120, 84), mean = mu, stddev = sigma), name=\"W4\")\n",
    "    W4 = tf.get_variable(shape=[100, 80], initializer=tf.contrib.layers.xavier_initializer(), name=\"W4\")\n",
    "    b4 = tf.Variable(tf.random_normal([80]), name=\"b4\")\n",
    "    fc2 = tf.add(tf.matmul(fc1, W4), b4)\n",
    "\n",
    "    # TODO: Activation.\n",
    "    \n",
    "    fc2 = tf.nn.relu(fc2, name=\"fc2-relu\")\n",
    "#     fc2_dropout = tf.nn.dropout(fc2, keep_prob=dropout_keep_prob, noise_shape=tf.shape(fc2))\n",
    "\n",
    "    # TODO: Layer 5: Fully Connected. Input = 84. Output = 43.\n",
    "#     W5 = tf.Variable(tf.truncated_normal(shape=(84, 43), mean = mu, stddev = sigma), name=\"W5\")\n",
    "    W5 = tf.get_variable(shape=[80, 43], initializer=tf.contrib.layers.xavier_initializer(), name=\"W5\")\n",
    "    b5 = tf.Variable(tf.random_normal([43]), name=\"b5\")\n",
    "    logits = tf.add(tf.matmul(fc2, W5), b5)\n",
    "    \n",
    "    return logits"
   ]
  },
  {
   "cell_type": "code",
   "execution_count": 22,
   "metadata": {
    "collapsed": true
   },
   "outputs": [],
   "source": [
    "from tensorflow.contrib.layers import flatten\n",
    "\n",
    "def multistage_neural_net(x, dropout_keep_prob, nb_chanels):    \n",
    "    # Arguments used for tf.truncated_normal, randomly defines variables for the weights and biases for each layer\n",
    "    mu = 0\n",
    "    sigma = 0.1\n",
    "    \n",
    "    # The weights and the biaises of the network\n",
    "    # The shape of the convolutional weights is as follows : (filter_height, filter_width, in_channels, out_channels)    \n",
    "            \n",
    "    # TODO: Layer 1: Convolutional. Input = 32x32x1. Output = 28x28x6.\n",
    "    \n",
    "    W1 = tf.Variable(tf.truncated_normal(shape=(5, 5, nb_chanels, 6), mean = mu, stddev = sigma), name=\"W1\")\n",
    "    b1 = tf.Variable(tf.random_normal([6]), name=\"b1\")\n",
    "    conv1 = tf.nn.conv2d(x,\n",
    "                W1,\n",
    "                strides = [1,1, 1, 1] ,\n",
    "                padding = \"VALID\",\n",
    "                use_cudnn_on_gpu=True,\n",
    "                name=\"Conv1\")\n",
    "    conv1 = tf.add(conv1, b1)\n",
    "    \n",
    "    # TODO: Activation.\n",
    "    \n",
    "    conv1 = tf.nn.relu(conv1,\n",
    "                      name=\"conv1-relu\")\n",
    "    \n",
    "    # TODO: Pooling. Input = 28x28x6. Output = 14x14x6.\n",
    "    \n",
    "    conv1 = tf.nn.max_pool(value = conv1,\n",
    "                          ksize = [1,2,2,1],\n",
    "                          strides = [1,2,2,1],\n",
    "                          padding=\"VALID\",\n",
    "                          data_format='NHWC')\n",
    "    \n",
    "    # TODO: Layer 2: Convolutional. Output = 10x10x16.\n",
    "    \n",
    "    W2 = tf.Variable(tf.truncated_normal(shape=(5, 5, 6, 16), mean = mu, stddev = sigma), name=\"W2\")\n",
    "    b2 = tf.Variable(tf.random_normal([16]), name=\"b2\")\n",
    "    conv2 = tf.nn.conv2d(conv1,\n",
    "                W2,\n",
    "                strides = [1,1, 1, 1] ,\n",
    "                padding = \"VALID\",\n",
    "                use_cudnn_on_gpu=True,\n",
    "                name=\"Conv2\")\n",
    "    conv2 = tf.add(conv2, b2)\n",
    "\n",
    "    # TODO: Activation.\n",
    "    \n",
    "    conv2 = tf.nn.relu(conv2, name=\"conv2-relu\")\n",
    "\n",
    "    # TODO: Pooling. Input = 10x10x16. Output = 5x5x16.\n",
    "    \n",
    "    conv2 = tf.nn.max_pool(value = conv2,\n",
    "                          ksize = [1,2,2,1],\n",
    "                          strides = [1,2,2,1],\n",
    "                          padding=\"VALID\",\n",
    "                          data_format='NHWC')\n",
    "    \n",
    "    # TODO: Layer 3: Convolutional. Output = 3x3x24.\n",
    "    \n",
    "    W3_conv = tf.Variable(tf.truncated_normal(shape=(3, 3, 16, 24), mean = mu, stddev = sigma), name=\"W3_conv\")\n",
    "    b3_conv = tf.Variable(tf.random_normal([24]), name=\"b3_conv\")\n",
    "    conv3 = tf.nn.conv2d(conv2,\n",
    "                W3_conv,\n",
    "                strides = [1,1, 1, 1] ,\n",
    "                padding = \"VALID\",\n",
    "                use_cudnn_on_gpu=True,\n",
    "                name=\"Conv3\")\n",
    "    conv3 = tf.add(conv3, b3_conv)\n",
    "\n",
    "    # TODO: Activation.\n",
    "    \n",
    "    conv3 = tf.nn.relu(conv3, name=\"conv3-relu\")\n",
    "\n",
    "    # TODO: Flatten. Input = 5x5x16. Output = 400.\n",
    "    \n",
    "    fc0_stage_1 = flatten(conv2)\n",
    "    \n",
    "    # Stage 2 : \n",
    "    \n",
    "    fc0_stage_2 = flatten(conv1)\n",
    "    \n",
    "    # Concatenating the two stages \n",
    "    \n",
    "    fc0 = tf.concat([fc0_stage_1, fc0_stage_2], 1)\n",
    "    \n",
    "    # Fully connected input vector dropout\n",
    "    \n",
    "    fc0_dropout = tf.nn.dropout(fc0, keep_prob=dropout_keep_prob, noise_shape=tf.shape(fc0))\n",
    "    \n",
    "    # TODO: Layer 3: Fully Connected. Input = 400. Output = 120.\n",
    "    \n",
    "    W3 = tf.Variable(tf.truncated_normal(shape=(1576, 80), mean = mu, stddev = sigma), name=\"W3\")\n",
    "    b3 = tf.Variable(tf.random_normal([80]), name=\"b3\")\n",
    "    fc1 = tf.add(tf.matmul(fc0_dropout, W3), b3)\n",
    "    \n",
    "    # TODO: Activation.\n",
    "    \n",
    "    fc1 = tf.nn.relu(fc1, name=\"fc1-relu\")\n",
    "    \n",
    "#     # TODO: Layer 4: Fully Connected. Input = 120. Output = 84.\n",
    "#     W4 = tf.Variable(tf.truncated_normal(shape=(120, 84), mean = mu, stddev = sigma), name=\"W4\")\n",
    "#     b4 = tf.Variable(tf.random_normal([84]), name=\"b4\")\n",
    "#     fc2 = tf.add(tf.matmul(fc1, W4), b4)\n",
    "    \n",
    "#     # TODO: Activation.\n",
    "    \n",
    "#     fc2 = tf.nn.relu(fc2, name=\"fc2-relu\")\n",
    "# #     fc3_dropout = tf.nn.dropout(fc2, keep_prob=0.9, noise_shape=tf.shape(fc2))\n",
    "\n",
    "    # TODO: Layer 5: Fully Connected. Input = 84. Output = 10.\n",
    "    W5 = tf.Variable(tf.truncated_normal(shape=(80, 43), mean = mu, stddev = sigma), name=\"W5\")\n",
    "    b5 = tf.Variable(tf.random_normal([43]), name=\"b5\")\n",
    "    logits = tf.add(tf.matmul(fc1, W5), b5)\n",
    "    \n",
    "    return logits"
   ]
  },
  {
   "cell_type": "code",
   "execution_count": 40,
   "metadata": {
    "collapsed": true
   },
   "outputs": [],
   "source": [
    "from tensorflow.contrib.layers import flatten\n",
    "\n",
    "def LeNet_modified2(x, dropout_keep_prob, nb_chanels):    \n",
    "    \n",
    "#     Layer 1: Convolutional. Input = 32x32x1. Output = 28x28x6.\n",
    "    conv1_W = tf.get_variable(shape=[5, 5, nb_chanels, 6], initializer=tf.contrib.layers.xavier_initializer_conv2d(), name=\"W1\")\n",
    "    conv1_b = tf.Variable(tf.zeros(6))\n",
    "    conv1   = tf.nn.conv2d(x, conv1_W, strides=[1, 1, 1, 1], padding='VALID', use_cudnn_on_gpu=True) + conv1_b \n",
    "    \n",
    "    #  Activation.\n",
    "    conv1 = tf.nn.relu(conv1)\n",
    "\n",
    "    #  Pooling. Input = 28x28x6. Output = 14x14x6.\n",
    "    conv1 = tf.nn.max_pool(conv1, ksize=[1, 2, 2, 1], strides=[1, 2, 2, 1], padding='VALID')\n",
    "\n",
    "    #  Layer 2: Convolutional. Output = 10x10x16.\n",
    "    conv2_W = tf.get_variable(shape=[5, 5, 6, 16], initializer=tf.contrib.layers.xavier_initializer_conv2d(), name=\"W2\")\n",
    "    conv2_b = tf.Variable(tf.zeros(16))\n",
    "    conv2   = tf.nn.conv2d(conv1, conv2_W, strides=[1, 1, 1, 1], padding='VALID', use_cudnn_on_gpu=True) + conv2_b\n",
    "    \n",
    "    #  Activation.\n",
    "    conv2 = tf.nn.relu(conv2)\n",
    "\n",
    "    #  Pooling. Input = 10x10x16. Output = 5x5x16.\n",
    "    conv2 = tf.nn.max_pool(conv2, ksize=[1, 2, 2, 1], strides=[1, 2, 2, 1], padding='VALID')\n",
    "\n",
    "    #  Flatten. Input = 5x5x16. Output = 400.\n",
    "    fc0   = flatten(conv2)\n",
    "    fc0_dropout = tf.nn.dropout(fc0, keep_prob=dropout_keep_prob, noise_shape=tf.shape(fc0))\n",
    "    \n",
    "    #  Layer 3: Fully Connected. Input = 400. Output = 120.\n",
    "    fc1_W = tf.get_variable(shape=[400, 120], initializer=tf.contrib.layers.xavier_initializer(), name=\"fc1_W\")\n",
    "    fc1_b = tf.Variable(tf.zeros(120))\n",
    "    fc1   = tf.matmul(fc0_dropout, fc1_W) + fc1_b\n",
    "    \n",
    "    #  Activation.\n",
    "    fc1    = tf.nn.relu(fc1)\n",
    "\n",
    "    #  Layer 4: Fully Connected. Input = 120. Output = 86.\n",
    "    fc2_W  = tf.get_variable(shape=[120, 86], initializer=tf.contrib.layers.xavier_initializer(), name=\"fc2_W\")\n",
    "    fc2_b  = tf.Variable(tf.zeros(86))\n",
    "    fc2    = tf.matmul(fc1, fc2_W) + fc2_b\n",
    "    \n",
    "    #  Activation.\n",
    "    fc2    = tf.nn.relu(fc2)\n",
    "\n",
    "    #  Layer 5: Fully Connected. Input = 84. Output = 10.\n",
    "    fc3_W  = tf.get_variable(shape=[86, 43], initializer=tf.contrib.layers.xavier_initializer(), name=\"fc3_W\")\n",
    "    fc3_b  = tf.Variable(tf.zeros(43))\n",
    "    logits = tf.matmul(fc2, fc3_W) + fc3_b\n",
    "    \n",
    "    return logits"
   ]
  },
  {
   "cell_type": "code",
   "execution_count": null,
   "metadata": {
    "collapsed": true
   },
   "outputs": [],
   "source": [
    "from tensorflow.contrib.layers import flatten\n",
    "\n",
    "def LeNet(x, dropout_keep_prob, nb_chanels):    \n",
    "    # Arguments used for tf.truncated_normal, randomly defines variables for the weights and biases for each layer\n",
    "    mu = 0\n",
    "    sigma = 0.01\n",
    "    \n",
    "    # The weights and the biaises of the network\n",
    "    # The shape of the convolutional weights is as follows : (filter_height, filter_width, in_channels, out_channels)    \n",
    "            \n",
    "    # TODO: Layer 1: Convolutional. Input = 32x32x1. Output = 28x28x6.\n",
    "    \n",
    "    W1 = tf.Variable(tf.truncated_normal(shape=(5, 5, nb_chanels, 6), mean = mu, stddev = sigma), name=\"W1\")\n",
    "    b1 = tf.Variable(tf.random_normal([6]), name=\"b1\")\n",
    "    conv1 = tf.nn.conv2d(x,\n",
    "                W1,\n",
    "                strides = [1,1, 1, 1] ,\n",
    "                padding = \"VALID\",\n",
    "                use_cudnn_on_gpu=None,\n",
    "                name=\"Conv1\")\n",
    "    conv1 = tf.add(conv1, b1)\n",
    "    \n",
    "    # TODO: Activation.\n",
    "    \n",
    "    conv1 = tf.nn.relu(conv1,\n",
    "                      name=\"conv1-relu\")\n",
    "    \n",
    "    # TODO: Pooling. Input = 28x28x6. Output = 14x14x6.\n",
    "    \n",
    "    conv1 = tf.nn.max_pool(value = conv1,\n",
    "                          ksize = [1,2,2,1],\n",
    "                          strides = [1,2,2,1],\n",
    "                          padding=\"VALID\",\n",
    "                          data_format='NHWC')\n",
    "    \n",
    "    # TODO: Layer 2: Convolutional. Output = 10x10x16.\n",
    "    \n",
    "    W2 = tf.Variable(tf.truncated_normal(shape=(5, 5, 6, 16), mean = mu, stddev = sigma), name=\"W2\")\n",
    "    b2 = tf.Variable(tf.random_normal([16]), name=\"b2\")\n",
    "    conv2 = tf.nn.conv2d(conv1,\n",
    "                W2,\n",
    "                strides = [1,1, 1, 1] ,\n",
    "                padding = \"VALID\",\n",
    "                use_cudnn_on_gpu=None,\n",
    "                name=\"Conv2\")\n",
    "    conv2 = tf.add(conv2, b2)\n",
    "\n",
    "    # TODO: Activation.\n",
    "    \n",
    "    conv2 = tf.nn.relu(conv2, name=\"conv2-relu\")\n",
    "\n",
    "    # TODO: Pooling. Input = 10x10x16. Output = 5x5x16.\n",
    "    \n",
    "    conv2 = tf.nn.max_pool(value = conv2,\n",
    "                          ksize = [1,2,2,1],\n",
    "                          strides = [1,2,2,1],\n",
    "                          padding=\"VALID\",\n",
    "                          data_format='NHWC')\n",
    "\n",
    "    # TODO: Flatten. Input = 5x5x16. Output = 400.\n",
    "    \n",
    "    fc0 = flatten(conv2)\n",
    "    fc1_dropout = tf.nn.dropout(fc0, keep_prob=dropout_keep_prob, noise_shape=tf.shape(fc0))\n",
    "    \n",
    "    # TODO: Layer 3: Fully Connected. Input = 400. Output = 120.\n",
    "    \n",
    "    W3 = tf.Variable(tf.truncated_normal(shape=(400, 200), mean = mu, stddev = sigma), name=\"W3\")\n",
    "    b3 = tf.Variable(tf.random_normal([200]), name=\"b3\")\n",
    "    fc1 = tf.add(tf.matmul(fc1_dropout, W3), b3)\n",
    "    \n",
    "    # TODO: Activation.\n",
    "    \n",
    "    fc1 = tf.nn.relu(fc1, name=\"fc1-relu\")\n",
    "    fc2_dropout = tf.nn.dropout(fc1, keep_prob=1, noise_shape=tf.shape(fc1))\n",
    "    \n",
    "    # TODO: Layer 4: Fully Connected. Input = 120. Output = 84.\n",
    "    W4 = tf.Variable(tf.truncated_normal(shape=(200, 100), mean = mu, stddev = sigma), name=\"W4\")\n",
    "    b4 = tf.Variable(tf.random_normal([100]), name=\"b4\")\n",
    "    fc2 = tf.add(tf.matmul(fc2_dropout, W4), b4)\n",
    "    \n",
    "    # TODO: Activation.\n",
    "    \n",
    "    fc2 = tf.nn.relu(fc2, name=\"fc2-relu\")\n",
    "#     fc3_dropout = tf.nn.dropout(fc2, keep_prob=0.9, noise_shape=tf.shape(fc2))\n",
    "\n",
    "    # TODO: Layer 5: Fully Connected. Input = 84. Output = 10.\n",
    "    W5 = tf.Variable(tf.truncated_normal(shape=(100, 43), mean = mu, stddev = sigma), name=\"W5\")\n",
    "    b5 = tf.Variable(tf.random_normal([43]), name=\"b5\")\n",
    "    logits = tf.add(tf.matmul(fc2, W5), b5)\n",
    "    \n",
    "    return logits"
   ]
  },
  {
   "cell_type": "markdown",
   "metadata": {},
   "source": [
    "### Train, Validate and Test the Model"
   ]
  },
  {
   "cell_type": "markdown",
   "metadata": {},
   "source": [
    "A validation set can be used to assess how well the model is performing. A low accuracy on the training and validation\n",
    "sets imply underfitting. A high accuracy on the training set but low accuracy on the validation set implies overfitting."
   ]
  },
  {
   "cell_type": "markdown",
   "metadata": {},
   "source": [
    "Operations definitions"
   ]
  },
  {
   "cell_type": "code",
   "execution_count": 44,
   "metadata": {
    "collapsed": true,
    "scrolled": false
   },
   "outputs": [],
   "source": [
    "tf.reset_default_graph() \n",
    "\n",
    "dropout_keep_prob_placeholder = tf.placeholder(tf.float32)\n",
    "learning_rate_placeholder = tf.placeholder(tf.float32)\n",
    "\n",
    "nb_epochs = 50\n",
    "batch_size = 128\n",
    "dropout_keep_prob = 0.35\n",
    "nb_chanels = 3\n",
    "\n",
    "# Full pipeline\n",
    "x = tf.placeholder(tf.float32, shape = (None, 32, 32, nb_chanels))\n",
    "y = tf.placeholder(tf.int32, shape = (None))\n",
    "one_hot_y = tf.one_hot(y, n_classes)\n",
    "logits = LeNet_modified2(x, dropout_keep_prob, nb_chanels)\n",
    "cross_entropy = tf.nn.softmax_cross_entropy_with_logits(labels=one_hot_y, logits=logits)\n",
    "loss_operation = tf.reduce_mean(cross_entropy)\n",
    "optimizer = tf.train.AdamOptimizer(epsilon=1e-08,  learning_rate=0.001, beta1=0.9, beta2=0.999)\n",
    "training_operation = optimizer.minimize(loss_operation)\n",
    "\n",
    "correct_prediction = tf.equal(tf.argmax(logits, 1), tf.argmax(one_hot_y, 1))\n",
    "accuracy_operation = tf.reduce_mean(tf.cast(correct_prediction, tf.float32))\n",
    "saver = tf.train.Saver()\n",
    "\n",
    "def evaluate(X_data, y_data):\n",
    "    num_examples = len(X_data)\n",
    "    BATCH_SIZE = 100\n",
    "    total_accuracy = 0\n",
    "    sess = tf.get_default_session()\n",
    "    for offset in range(0, num_examples, BATCH_SIZE):\n",
    "        batch_x, batch_y = X_data[offset:offset+BATCH_SIZE], y_data[offset:offset+BATCH_SIZE]\n",
    "        accuracy = sess.run(accuracy_operation, feed_dict={x: batch_x, \n",
    "                                                           y: batch_y, \n",
    "                                                           dropout_keep_prob_placeholder : 1})\n",
    "        total_accuracy += (accuracy * len(batch_x))\n",
    "    return total_accuracy / num_examples"
   ]
  },
  {
   "cell_type": "code",
   "execution_count": 45,
   "metadata": {
    "scrolled": false
   },
   "outputs": [
    {
     "name": "stdout",
     "output_type": "stream",
     "text": [
      "Epoch0\n",
      "Epoch1\n",
      "Epoch2\n",
      "Epoch3\n",
      "Epoch4\n",
      "Epoch5\n",
      "Epoch6\n",
      "Epoch7\n",
      "Epoch8\n",
      "Epoch9\n",
      "Epoch10\n",
      "Epoch11\n",
      "Epoch12\n",
      "Epoch13\n",
      "Epoch14\n",
      "Epoch15\n",
      "Epoch16\n",
      "Epoch17\n",
      "Epoch18\n",
      "Epoch19\n",
      "Epoch20\n",
      "Epoch21\n",
      "Epoch22\n",
      "Epoch23\n",
      "Epoch24\n",
      "Epoch25\n",
      "Epoch26\n",
      "Epoch27\n",
      "Epoch28\n",
      "Epoch29\n",
      "Epoch30\n",
      "Epoch31\n",
      "Epoch32\n",
      "Epoch33\n",
      "Epoch34\n",
      "Epoch35\n",
      "Epoch36\n",
      "Epoch37\n",
      "Epoch38\n",
      "Epoch39\n",
      "Epoch40\n",
      "Epoch41\n",
      "Epoch42\n",
      "Epoch43\n",
      "Epoch44\n",
      "Epoch45\n",
      "Epoch46\n",
      "Epoch47\n",
      "Epoch48\n",
      "Epoch49\n",
      "valid_evaluate0.924263043198\n",
      "train_evaluate0.988390476982\n"
     ]
    }
   ],
   "source": [
    "# Train \n",
    "\n",
    "with tf.Session(config=tf.ConfigProto(log_device_placement=True)) as sess:\n",
    "    sess.run(tf.global_variables_initializer())\n",
    "\n",
    "    for i in range(nb_epochs) :        \n",
    "        s = np.arange(n_train)\n",
    "        np.random.shuffle(s)\n",
    "        X_train_shuffled = X_train_norm[s].copy()\n",
    "        y_train_shuffled = y_train[s].copy()\n",
    "\n",
    "        for j in range(int(n_train / batch_size)) :\n",
    "            x_batch = X_train_shuffled[j * batch_size : (j + 1) * batch_size]\n",
    "            y_batch = y_train_shuffled[j * batch_size : (j + 1) * batch_size]\n",
    "            sess.run(training_operation, \n",
    "                     feed_dict={x: x_batch, \n",
    "                                y : y_batch,\n",
    "                                dropout_keep_prob_placeholder : dropout_keep_prob})\n",
    "    print(\"valid_evaluate\" + str(evaluate(X_valid_norm, y_valid)))\n",
    "    print(\"train_evaluate\" + str(evaluate(X_train_norm, y_train)))\n",
    "    saver.save(sess, './lenet')"
   ]
  },
  {
   "cell_type": "code",
   "execution_count": 46,
   "metadata": {},
   "outputs": [
    {
     "name": "stdout",
     "output_type": "stream",
     "text": [
      "INFO:tensorflow:Restoring parameters from ./lenet\n",
      "test_evaluate0.901821062618\n"
     ]
    }
   ],
   "source": [
    "with tf.Session() as sess:\n",
    "    saver.restore(sess, tf.train.latest_checkpoint('.'))\n",
    "    print(\"test_evaluate\" + str(evaluate(X_test_norm, y_test)))"
   ]
  },
  {
   "cell_type": "markdown",
   "metadata": {},
   "source": [
    "---\n",
    "\n",
    "## Step 3: Test a Model on New Images\n",
    "\n",
    "To give yourself more insight into how your model is working, download at least five pictures of German traffic signs from the web and use your model to predict the traffic sign type.\n",
    "\n",
    "You may find `signnames.csv` useful as it contains mappings from the class id (integer) to the actual sign name."
   ]
  },
  {
   "cell_type": "markdown",
   "metadata": {},
   "source": [
    "### Load and Output the Images"
   ]
  },
  {
   "cell_type": "code",
   "execution_count": 27,
   "metadata": {
    "collapsed": true
   },
   "outputs": [],
   "source": [
    "### Load the images and plot them here.\n",
    "### Feel free to use as many code cells as needed.\n",
    "\n",
    "image = cv2.imread('german_traffic_signs/1.png')\n",
    "resized_image = cv2.resize(image, (32, 32)) \n",
    "gray_image = cv2.cvtColor(resized_image, cv2.COLOR_BGR2GRAY)"
   ]
  },
  {
   "cell_type": "code",
   "execution_count": 28,
   "metadata": {},
   "outputs": [
    {
     "ename": "NameError",
     "evalue": "name 'img' is not defined",
     "output_type": "error",
     "traceback": [
      "\u001b[0;31m---------------------------------------------------------------------------\u001b[0m",
      "\u001b[0;31mNameError\u001b[0m                                 Traceback (most recent call last)",
      "\u001b[0;32m<ipython-input-28-439cc5f2bed0>\u001b[0m in \u001b[0;36m<module>\u001b[0;34m()\u001b[0m\n\u001b[0;32m----> 1\u001b[0;31m \u001b[0mimg\u001b[0m\u001b[0;34m.\u001b[0m\u001b[0mshape\u001b[0m\u001b[0;34m\u001b[0m\u001b[0m\n\u001b[0m",
      "\u001b[0;31mNameError\u001b[0m: name 'img' is not defined"
     ]
    }
   ],
   "source": [
    "img.shape"
   ]
  },
  {
   "cell_type": "code",
   "execution_count": null,
   "metadata": {
    "collapsed": true
   },
   "outputs": [],
   "source": [
    "plt.imshow(image, cmap=None)"
   ]
  },
  {
   "cell_type": "markdown",
   "metadata": {},
   "source": [
    "### Predict the Sign Type for Each Image"
   ]
  },
  {
   "cell_type": "code",
   "execution_count": null,
   "metadata": {
    "collapsed": true
   },
   "outputs": [],
   "source": [
    "### Run the predictions here and use the model to output the prediction for each image.\n",
    "### Make sure to pre-process the images with the same pre-processing pipeline used earlier.\n",
    "### Feel free to use as many code cells as needed.\n"
   ]
  },
  {
   "cell_type": "markdown",
   "metadata": {},
   "source": [
    "### Analyze Performance"
   ]
  },
  {
   "cell_type": "code",
   "execution_count": null,
   "metadata": {
    "collapsed": true
   },
   "outputs": [],
   "source": [
    "### Calculate the accuracy for these 5 new images. \n",
    "### For example, if the model predicted 1 out of 5 signs correctly, it's 20% accurate on these new images."
   ]
  },
  {
   "cell_type": "markdown",
   "metadata": {},
   "source": [
    "### Output Top 5 Softmax Probabilities For Each Image Found on the Web"
   ]
  },
  {
   "cell_type": "markdown",
   "metadata": {},
   "source": [
    "For each of the new images, print out the model's softmax probabilities to show the **certainty** of the model's predictions (limit the output to the top 5 probabilities for each image). [`tf.nn.top_k`](https://www.tensorflow.org/versions/r0.12/api_docs/python/nn.html#top_k) could prove helpful here. \n",
    "\n",
    "The example below demonstrates how tf.nn.top_k can be used to find the top k predictions for each image.\n",
    "\n",
    "`tf.nn.top_k` will return the values and indices (class ids) of the top k predictions. So if k=3, for each sign, it'll return the 3 largest probabilities (out of a possible 43) and the correspoding class ids.\n",
    "\n",
    "Take this numpy array as an example. The values in the array represent predictions. The array contains softmax probabilities for five candidate images with six possible classes. `tf.nn.top_k` is used to choose the three classes with the highest probability:\n",
    "\n",
    "```\n",
    "# (5, 6) array\n",
    "a = np.array([[ 0.24879643,  0.07032244,  0.12641572,  0.34763842,  0.07893497,\n",
    "         0.12789202],\n",
    "       [ 0.28086119,  0.27569815,  0.08594638,  0.0178669 ,  0.18063401,\n",
    "         0.15899337],\n",
    "       [ 0.26076848,  0.23664738,  0.08020603,  0.07001922,  0.1134371 ,\n",
    "         0.23892179],\n",
    "       [ 0.11943333,  0.29198961,  0.02605103,  0.26234032,  0.1351348 ,\n",
    "         0.16505091],\n",
    "       [ 0.09561176,  0.34396535,  0.0643941 ,  0.16240774,  0.24206137,\n",
    "         0.09155967]])\n",
    "```\n",
    "\n",
    "Running it through `sess.run(tf.nn.top_k(tf.constant(a), k=3))` produces:\n",
    "\n",
    "```\n",
    "TopKV2(values=array([[ 0.34763842,  0.24879643,  0.12789202],\n",
    "       [ 0.28086119,  0.27569815,  0.18063401],\n",
    "       [ 0.26076848,  0.23892179,  0.23664738],\n",
    "       [ 0.29198961,  0.26234032,  0.16505091],\n",
    "       [ 0.34396535,  0.24206137,  0.16240774]]), indices=array([[3, 0, 5],\n",
    "       [0, 1, 4],\n",
    "       [0, 5, 1],\n",
    "       [1, 3, 5],\n",
    "       [1, 4, 3]], dtype=int32))\n",
    "```\n",
    "\n",
    "Looking just at the first row we get `[ 0.34763842,  0.24879643,  0.12789202]`, you can confirm these are the 3 largest probabilities in `a`. You'll also notice `[3, 0, 5]` are the corresponding indices."
   ]
  },
  {
   "cell_type": "code",
   "execution_count": null,
   "metadata": {
    "collapsed": true
   },
   "outputs": [],
   "source": [
    "### Print out the top five softmax probabilities for the predictions on the German traffic sign images found on the web. \n",
    "### Feel free to use as many code cells as needed."
   ]
  },
  {
   "cell_type": "markdown",
   "metadata": {},
   "source": [
    "### Project Writeup\n",
    "\n",
    "Once you have completed the code implementation, document your results in a project writeup using this [template](https://github.com/udacity/CarND-Traffic-Sign-Classifier-Project/blob/master/writeup_template.md) as a guide. The writeup can be in a markdown or pdf file. "
   ]
  },
  {
   "cell_type": "markdown",
   "metadata": {},
   "source": [
    "> **Note**: Once you have completed all of the code implementations and successfully answered each question above, you may finalize your work by exporting the iPython Notebook as an HTML document. You can do this by using the menu above and navigating to  \\n\",\n",
    "    \"**File -> Download as -> HTML (.html)**. Include the finished document along with this notebook as your submission."
   ]
  },
  {
   "cell_type": "markdown",
   "metadata": {},
   "source": [
    "---\n",
    "\n",
    "## Step 4 (Optional): Visualize the Neural Network's State with Test Images\n",
    "\n",
    " This Section is not required to complete but acts as an additional excersise for understaning the output of a neural network's weights. While neural networks can be a great learning device they are often referred to as a black box. We can understand what the weights of a neural network look like better by plotting their feature maps. After successfully training your neural network you can see what it's feature maps look like by plotting the output of the network's weight layers in response to a test stimuli image. From these plotted feature maps, it's possible to see what characteristics of an image the network finds interesting. For a sign, maybe the inner network feature maps react with high activation to the sign's boundary outline or to the contrast in the sign's painted symbol.\n",
    "\n",
    " Provided for you below is the function code that allows you to get the visualization output of any tensorflow weight layer you want. The inputs to the function should be a stimuli image, one used during training or a new one you provided, and then the tensorflow variable name that represents the layer's state during the training process, for instance if you wanted to see what the [LeNet lab's](https://classroom.udacity.com/nanodegrees/nd013/parts/fbf77062-5703-404e-b60c-95b78b2f3f9e/modules/6df7ae49-c61c-4bb2-a23e-6527e69209ec/lessons/601ae704-1035-4287-8b11-e2c2716217ad/concepts/d4aca031-508f-4e0b-b493-e7b706120f81) feature maps looked like for it's second convolutional layer you could enter conv2 as the tf_activation variable.\n",
    "\n",
    "For an example of what feature map outputs look like, check out NVIDIA's results in their paper [End-to-End Deep Learning for Self-Driving Cars](https://devblogs.nvidia.com/parallelforall/deep-learning-self-driving-cars/) in the section Visualization of internal CNN State. NVIDIA was able to show that their network's inner weights had high activations to road boundary lines by comparing feature maps from an image with a clear path to one without. Try experimenting with a similar test to show that your trained network's weights are looking for interesting features, whether it's looking at differences in feature maps from images with or without a sign, or even what feature maps look like in a trained network vs a completely untrained one on the same sign image.\n",
    "\n",
    "<figure>\n",
    " <img src=\"visualize_cnn.png\" width=\"380\" alt=\"Combined Image\" />\n",
    " <figcaption>\n",
    " <p></p> \n",
    " <p style=\"text-align: center;\"> Your output should look something like this (above)</p> \n",
    " </figcaption>\n",
    "</figure>\n",
    " <p></p> \n"
   ]
  },
  {
   "cell_type": "code",
   "execution_count": null,
   "metadata": {
    "collapsed": true
   },
   "outputs": [],
   "source": [
    "### Visualize your network's feature maps here.\n",
    "### Feel free to use as many code cells as needed.\n",
    "\n",
    "# image_input: the test image being fed into the network to produce the feature maps\n",
    "# tf_activation: should be a tf variable name used during your training procedure that represents the calculated state of a specific weight layer\n",
    "# activation_min/max: can be used to view the activation contrast in more detail, by default matplot sets min and max to the actual min and max values of the output\n",
    "# plt_num: used to plot out multiple different weight feature map sets on the same block, just extend the plt number for each new feature map entry\n",
    "\n",
    "def outputFeatureMap(image_input, tf_activation, activation_min=-1, activation_max=-1 ,plt_num=1):\n",
    "    # Here make sure to preprocess your image_input in a way your network expects\n",
    "    # with size, normalization, ect if needed\n",
    "    # image_input =\n",
    "    # Note: x should be the same name as your network's tensorflow data placeholder variable\n",
    "    # If you get an error tf_activation is not defined it may be having trouble accessing the variable from inside a function\n",
    "    activation = tf_activation.eval(session=sess,feed_dict={x : image_input})\n",
    "    featuremaps = activation.shape[3]\n",
    "    plt.figure(plt_num, figsize=(15,15))\n",
    "    for featuremap in range(featuremaps):\n",
    "        plt.subplot(6,8, featuremap+1) # sets the number of feature maps to show on each row and column\n",
    "        plt.title('FeatureMap ' + str(featuremap)) # displays the feature map number\n",
    "        if activation_min != -1 & activation_max != -1:\n",
    "            plt.imshow(activation[0,:,:, featuremap], interpolation=\"nearest\", vmin =activation_min, vmax=activation_max, cmap=\"gray\")\n",
    "        elif activation_max != -1:\n",
    "            plt.imshow(activation[0,:,:, featuremap], interpolation=\"nearest\", vmax=activation_max, cmap=\"gray\")\n",
    "        elif activation_min !=-1:\n",
    "            plt.imshow(activation[0,:,:, featuremap], interpolation=\"nearest\", vmin=activation_min, cmap=\"gray\")\n",
    "        else:\n",
    "            plt.imshow(activation[0,:,:, featuremap], interpolation=\"nearest\", cmap=\"gray\")"
   ]
  }
 ],
 "metadata": {
  "anaconda-cloud": {},
  "kernelspec": {
   "display_name": "Python [conda env:tensorflow]",
   "language": "python",
   "name": "conda-env-tensorflow-py"
  },
  "language_info": {
   "codemirror_mode": {
    "name": "ipython",
    "version": 3
   },
   "file_extension": ".py",
   "mimetype": "text/x-python",
   "name": "python",
   "nbconvert_exporter": "python",
   "pygments_lexer": "ipython3",
   "version": "3.5.4"
  }
 },
 "nbformat": 4,
 "nbformat_minor": 1
}
